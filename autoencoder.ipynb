{
 "cells": [
  {
   "cell_type": "code",
   "execution_count": 2,
   "metadata": {},
   "outputs": [],
   "source": [
    "import cv2\n",
    "import mediapipe as mp\n",
    "import urllib.request as urlreq\n",
    "import os\n",
    "import numpy as np\n",
    "import matplotlib.pyplot as plt\n",
    "from matplotlib.patches import Circle, Ellipse, Rectangle\n",
    "import torch\n",
    "import torch.nn as nn\n",
    "import torch.nn.functional as F\n",
    "from torch.utils.data import Dataset, DataLoader\n",
    "from tqdm import tqdm\n",
    "from glob import glob\n",
    "import pandas as pd\n",
    "\n",
    "#from rembg import remove\n",
    "\n",
    "from config import *\n",
    "from cropping import *\n",
    "from landmarks_utils import *\n",
    "from preprocessing import *\n",
    "from face_landmarking_model import *\n",
    "from training import *\n",
    "from face_dataset import FaceDataset, EnsembleSampler\n",
    "import itertools"
   ]
  },
  {
   "cell_type": "code",
   "execution_count": 3,
   "metadata": {},
   "outputs": [],
   "source": [
    "# Prepare best groups for ensemble projection\n",
    "groups = [os.path.basename(os.path.normpath(path_string)) for path_string in glob(\"./AI_Morphometrics/*/\", recursive = False)]\n",
    "groups_results = pd.read_json('training_results_means.json', orient='index')\n",
    "groups_results.columns = ['result']\n",
    "list_df = pd.read_csv('./preprocessed_data/path_list.txt', names=['text'], header=None)\n",
    "counts = {}\n",
    "for group in groups:\n",
    "    counts[group] = len(list_df[list_df['text'].str.contains(group)])\n",
    "compare = pd.concat([groups_results, pd.DataFrame(counts.items(), columns=['group', 'sample']).set_index('group')], axis = 1)\n",
    "#plt.scatter(x=compare['sample'], y=compare['result'])\n",
    "\n",
    "best_groups = compare.dropna().sort_values(by=['sample']).sort_values(by=['result']).index.to_list()"
   ]
  },
  {
   "cell_type": "code",
   "execution_count": 4,
   "metadata": {},
   "outputs": [
    {
     "name": "stderr",
     "output_type": "stream",
     "text": [
      "100%|██████████| 1/1 [00:22<00:00, 22.04s/it]\n"
     ]
    }
   ],
   "source": [
    "results = {}\n",
    "valid_results = {}\n",
    "cached_models = {}\n",
    "times = {}\n",
    "projectors = [1]\n",
    "rotations = [True]\n",
    "learning_rates = [0.01]\n",
    "hidden_head_index = [3]\n",
    "num_parents = [5]\n",
    "ffn_bias = [False]\n",
    "\n",
    "hyperparameter_combinations = list(itertools.product(projectors, rotations, learning_rates, num_parents, hidden_head_index, ffn_bias))\n",
    "i = 0\n",
    "for num_projectors, rotate, lr, num_parent_landmarks, hidden_head_index, ffn_bias in tqdm(hyperparameter_combinations):\n",
    "    combination = f\"{num_projectors}_{rotate}_{lr}_{num_parent_landmarks}_{hidden_head_index}_{ffn_bias}\"\n",
    "    model, optimizers, schedulers, datasets, dataloaders = prepare_trainers(best_groups, \n",
    "                                                                            num_parent_landmarks = num_parent_landmarks, \n",
    "                                                                            projectors=num_projectors, \n",
    "                                                                            rotate=rotate, \n",
    "                                                                            lr_projection=0.01,\n",
    "                                                                            lr_cnn=0.01,\n",
    "                                                                            lr_ffn=0.0001,\n",
    "                                                                            hidden_head_index=hidden_head_index,\n",
    "                                                                            ffn_bias=ffn_bias\n",
    "                                                                            )\n",
    "\n",
    "            "
   ]
  },
  {
   "cell_type": "code",
   "execution_count": 5,
   "metadata": {},
   "outputs": [
    {
     "name": "stdout",
     "output_type": "stream",
     "text": [
      "tensor([2192])\n",
      "torch.Size([72, 48, 48])\n"
     ]
    }
   ],
   "source": [
    "dataset = datasets['main']\n",
    "dataset.work = False\n",
    "dataset.pretraining = False\n",
    "idx = torch.randint(dataset.__len__(),(1,))\n",
    "print(idx)\n",
    "batch = dataset.__getitem__(idx)\n",
    "inputs, targets, multicrop = batch\n",
    "print(multicrop.shape)"
   ]
  },
  {
   "cell_type": "code",
   "execution_count": 6,
   "metadata": {},
   "outputs": [],
   "source": [
    "# num_landmarks = 72\n",
    "# a =  nn.Conv2d(num_landmarks * 8, num_landmarks * 16, groups = num_landmarks, kernel_size=5, stride=1, padding='same')\n",
    "# a.out_channels"
   ]
  },
  {
   "cell_type": "code",
   "execution_count": 7,
   "metadata": {},
   "outputs": [
    {
     "name": "stdout",
     "output_type": "stream",
     "text": [
      "Input shape torch.Size([72, 48, 48])\n"
     ]
    },
    {
     "data": {
      "text/plain": [
       "torch.Size([1, 72, 48, 48])"
      ]
     },
     "execution_count": 7,
     "metadata": {},
     "output_type": "execute_result"
    }
   ],
   "source": [
    "import torch\n",
    "import torch.nn as nn\n",
    "\n",
    "class MulticropAutoencoder(nn.Module):\n",
    "    def __init__(self, num_landmarks, patch_height, patch_width, encoding_dim):\n",
    "        super().__init__()\n",
    "\n",
    "        # Encoder\n",
    "        self.encoder = nn.Sequential(\n",
    "            nn.Conv2d(num_landmarks, num_landmarks * 32, groups = num_landmarks, kernel_size=3, stride=1, padding='same'),\n",
    "            nn.ReLU(),\n",
    "            nn.MaxPool2d(kernel_size=2, stride=2),\n",
    "            nn.Conv2d(num_landmarks * 32, num_landmarks * 8, groups = num_landmarks, kernel_size=5, stride=1, padding = 'same'),\n",
    "            nn.ReLU(),\n",
    "            nn.MaxPool2d(kernel_size=2, stride=2)\n",
    "        )\n",
    "        \n",
    "        self.linear_encoder = nn.Linear(num_landmarks * 144, encoding_dim * num_landmarks)\n",
    "        self.linear_decoder = nn.Linear(encoding_dim * num_landmarks, num_landmarks * 144)\n",
    "        \n",
    "        mask_diag = torch.diag(torch.ones(num_landmarks))\n",
    "        linear_encoder_mask = mask_diag.repeat_interleave(144, dim = 1).repeat_interleave(int(encoding_dim), dim = 0)\n",
    "        # print(linear_encoder_mask.shape)\n",
    "        # print(self.linear_encoder.weight.shape)\n",
    "        self.register_buffer(\"mask\", linear_encoder_mask)\n",
    "\n",
    "        # Decoder\n",
    "        # self.decoder = nn.Sequential(\n",
    "        #     nn.ConvTranspose2d(num_landmarks * 4, num_landmarks * 16, groups = num_landmarks, kernel_size=3, stride=2),\n",
    "        #     nn.ReLU(),\n",
    "        #     nn.ConvTranspose2d(num_landmarks * 16, num_landmarks, groups = num_landmarks, kernel_size=3, stride=2),\n",
    "        #     nn.Sigmoid()\n",
    "        # )\n",
    "        \n",
    "\n",
    "        # self.encoder = torch.nn.Sequential(\n",
    "        #     torch.nn.Conv2d(1 * num_landmarks, 32 * num_landmarks, 3, groups = num_landmarks, stride=1, padding=1),  # \n",
    "        #     torch.nn.ReLU(True),\n",
    "        #     torch.nn.MaxPool2d(2, stride=1),\n",
    "        #     torch.nn.Conv2d(32 * num_landmarks, 8 * num_landmarks, 3, groups = num_landmarks, stride=1, padding=1),  # b, 8, 3, 3\n",
    "        #     torch.nn.ReLU(True),\n",
    "        #     torch.nn.MaxPool2d(2, stride=1)  # b, 8, 2, 2\n",
    "        # )\n",
    "\n",
    "        self.decoder = torch.nn.Sequential(\n",
    "            torch.nn.Upsample(scale_factor=2, mode='nearest'),\n",
    "            torch.nn.Conv2d(8 * num_landmarks, 32 * num_landmarks, 3, groups = num_landmarks, stride=1, padding=1),  # b, 16, 10, 10\n",
    "            torch.nn.ReLU(True),\n",
    "            torch.nn.Upsample(scale_factor=2, mode='nearest'),\n",
    "            torch.nn.Conv2d(32 * num_landmarks, 1 * num_landmarks, 3, groups = num_landmarks, stride=1, padding = 1),  # b, 8, 3, 3\n",
    "            torch.nn.Sigmoid()\n",
    "        )\n",
    "\n",
    "    def forward(self, input_patches):\n",
    "        # Reshape input_patches to (batch_size, num_landmarks * 3, patch_height, patch_width)\n",
    "        # input_patches = input_patches.view(input_patches.size(0), -1, input_patches.size(3), input_patches.size(4))\n",
    "        if input_patches.dim() < 4:\n",
    "            input_patches = input_patches.unsqueeze(dim=0)\n",
    " \n",
    "        # Encode each group of patches independently\n",
    "        encoded_patches = self.encoder(input_patches)\n",
    "        #print(encoded_patches.shape)\n",
    "        # print(f'Encoded patch {encoded_patches.shape}')\n",
    "        \n",
    "        # flatten_convolutions = torch.flatten(encoded_patches, start_dim=-3)\n",
    "        # # print(f'Encoded flatten {flatten_convolutions.shape}')\n",
    "        \n",
    "        # self.linear_encoder.weight.data.mul_(self.mask)\n",
    "        # encoding = self.linear_encoder(flatten_convolutions)\n",
    "        # #print(f'Encoding shape: {encoding.shape}')\n",
    "        \n",
    "        # self.linear_decoder.weight.data.mul_(self.mask.permute(1,0))\n",
    "        # decoding = torch.unflatten(self.linear_decoder(encoding), -1, encoded_patches.shape[-3:])\n",
    "\n",
    "        # Decode each group of patches independently\n",
    "        # Decode directly from encoder????\n",
    "        decoded_patches = self.decoder(encoded_patches)\n",
    "\n",
    "        return decoded_patches\n",
    "\n",
    "# Example usage\n",
    "num_landmarks = 72\n",
    "crop_size = CROP_SIZE\n",
    "encoding_dim = 50\n",
    "\n",
    "model = MulticropAutoencoder(num_landmarks, crop_size, crop_size, encoding_dim)\n",
    "\n",
    "# Assuming input_patches is a tensor with shape (batch_size, num_landmarks * 3, patch_height, patch_width)\n",
    "print(f'Input shape {multicrop.shape}')\n",
    "output = model(multicrop)\n",
    "output.shape\n"
   ]
  },
  {
   "cell_type": "code",
   "execution_count": 8,
   "metadata": {},
   "outputs": [
    {
     "name": "stdout",
     "output_type": "stream",
     "text": [
      "Epoch [0,11], Loss: 789.8807983398438, 4320.534179687525\r"
     ]
    },
    {
     "ename": "KeyboardInterrupt",
     "evalue": "",
     "output_type": "error",
     "traceback": [
      "\u001b[1;31m---------------------------------------------------------------------------\u001b[0m",
      "\u001b[1;31mKeyboardInterrupt\u001b[0m                         Traceback (most recent call last)",
      "\u001b[1;32mc:\\Users\\jtrnka\\Documents\\GitHub\\Face-Landmarking\\Face-Landmarking\\autoencoder.ipynb Cell 7\u001b[0m line \u001b[0;36m2\n\u001b[0;32m     <a href='vscode-notebook-cell:/c%3A/Users/jtrnka/Documents/GitHub/Face-Landmarking/Face-Landmarking/autoencoder.ipynb#W6sZmlsZQ%3D%3D?line=25'>26</a>\u001b[0m x, y, multicrop \u001b[39m=\u001b[39m batch\n\u001b[0;32m     <a href='vscode-notebook-cell:/c%3A/Users/jtrnka/Documents/GitHub/Face-Landmarking/Face-Landmarking/autoencoder.ipynb#W6sZmlsZQ%3D%3D?line=27'>28</a>\u001b[0m \u001b[39m# Forward pass\u001b[39;00m\n\u001b[1;32m---> <a href='vscode-notebook-cell:/c%3A/Users/jtrnka/Documents/GitHub/Face-Landmarking/Face-Landmarking/autoencoder.ipynb#W6sZmlsZQ%3D%3D?line=28'>29</a>\u001b[0m reconstruction1 \u001b[39m=\u001b[39m \u001b[39m255\u001b[39m \u001b[39m*\u001b[39m model1(multicrop\u001b[39m/\u001b[39;49m\u001b[39m255\u001b[39;49m)\n\u001b[0;32m     <a href='vscode-notebook-cell:/c%3A/Users/jtrnka/Documents/GitHub/Face-Landmarking/Face-Landmarking/autoencoder.ipynb#W6sZmlsZQ%3D%3D?line=29'>30</a>\u001b[0m loss1 \u001b[39m=\u001b[39m criterion1(reconstruction1, multicrop)\n\u001b[0;32m     <a href='vscode-notebook-cell:/c%3A/Users/jtrnka/Documents/GitHub/Face-Landmarking/Face-Landmarking/autoencoder.ipynb#W6sZmlsZQ%3D%3D?line=30'>31</a>\u001b[0m reconstruction2 \u001b[39m=\u001b[39m \u001b[39m255\u001b[39m \u001b[39m*\u001b[39m model2(multicrop\u001b[39m/\u001b[39m\u001b[39m255\u001b[39m)\n",
      "File \u001b[1;32mc:\\Users\\jtrnka\\Documents\\GitHub\\Face-Landmarking\\Face-Landmarking\\face_env\\Lib\\site-packages\\torch\\nn\\modules\\module.py:1518\u001b[0m, in \u001b[0;36mModule._wrapped_call_impl\u001b[1;34m(self, *args, **kwargs)\u001b[0m\n\u001b[0;32m   1516\u001b[0m     \u001b[39mreturn\u001b[39;00m \u001b[39mself\u001b[39m\u001b[39m.\u001b[39m_compiled_call_impl(\u001b[39m*\u001b[39margs, \u001b[39m*\u001b[39m\u001b[39m*\u001b[39mkwargs)  \u001b[39m# type: ignore[misc]\u001b[39;00m\n\u001b[0;32m   1517\u001b[0m \u001b[39melse\u001b[39;00m:\n\u001b[1;32m-> 1518\u001b[0m     \u001b[39mreturn\u001b[39;00m \u001b[39mself\u001b[39;49m\u001b[39m.\u001b[39;49m_call_impl(\u001b[39m*\u001b[39;49margs, \u001b[39m*\u001b[39;49m\u001b[39m*\u001b[39;49mkwargs)\n",
      "File \u001b[1;32mc:\\Users\\jtrnka\\Documents\\GitHub\\Face-Landmarking\\Face-Landmarking\\face_env\\Lib\\site-packages\\torch\\nn\\modules\\module.py:1527\u001b[0m, in \u001b[0;36mModule._call_impl\u001b[1;34m(self, *args, **kwargs)\u001b[0m\n\u001b[0;32m   1522\u001b[0m \u001b[39m# If we don't have any hooks, we want to skip the rest of the logic in\u001b[39;00m\n\u001b[0;32m   1523\u001b[0m \u001b[39m# this function, and just call forward.\u001b[39;00m\n\u001b[0;32m   1524\u001b[0m \u001b[39mif\u001b[39;00m \u001b[39mnot\u001b[39;00m (\u001b[39mself\u001b[39m\u001b[39m.\u001b[39m_backward_hooks \u001b[39mor\u001b[39;00m \u001b[39mself\u001b[39m\u001b[39m.\u001b[39m_backward_pre_hooks \u001b[39mor\u001b[39;00m \u001b[39mself\u001b[39m\u001b[39m.\u001b[39m_forward_hooks \u001b[39mor\u001b[39;00m \u001b[39mself\u001b[39m\u001b[39m.\u001b[39m_forward_pre_hooks\n\u001b[0;32m   1525\u001b[0m         \u001b[39mor\u001b[39;00m _global_backward_pre_hooks \u001b[39mor\u001b[39;00m _global_backward_hooks\n\u001b[0;32m   1526\u001b[0m         \u001b[39mor\u001b[39;00m _global_forward_hooks \u001b[39mor\u001b[39;00m _global_forward_pre_hooks):\n\u001b[1;32m-> 1527\u001b[0m     \u001b[39mreturn\u001b[39;00m forward_call(\u001b[39m*\u001b[39;49margs, \u001b[39m*\u001b[39;49m\u001b[39m*\u001b[39;49mkwargs)\n\u001b[0;32m   1529\u001b[0m \u001b[39mtry\u001b[39;00m:\n\u001b[0;32m   1530\u001b[0m     result \u001b[39m=\u001b[39m \u001b[39mNone\u001b[39;00m\n",
      "\u001b[1;32mc:\\Users\\jtrnka\\Documents\\GitHub\\Face-Landmarking\\Face-Landmarking\\autoencoder.ipynb Cell 7\u001b[0m line \u001b[0;36m7\n\u001b[0;32m     <a href='vscode-notebook-cell:/c%3A/Users/jtrnka/Documents/GitHub/Face-Landmarking/Face-Landmarking/autoencoder.ipynb#W6sZmlsZQ%3D%3D?line=60'>61</a>\u001b[0m encoded_patches \u001b[39m=\u001b[39m \u001b[39mself\u001b[39m\u001b[39m.\u001b[39mencoder(input_patches)\n\u001b[0;32m     <a href='vscode-notebook-cell:/c%3A/Users/jtrnka/Documents/GitHub/Face-Landmarking/Face-Landmarking/autoencoder.ipynb#W6sZmlsZQ%3D%3D?line=61'>62</a>\u001b[0m \u001b[39m#print(encoded_patches.shape)\u001b[39;00m\n\u001b[0;32m     <a href='vscode-notebook-cell:/c%3A/Users/jtrnka/Documents/GitHub/Face-Landmarking/Face-Landmarking/autoencoder.ipynb#W6sZmlsZQ%3D%3D?line=62'>63</a>\u001b[0m \u001b[39m# print(f'Encoded patch {encoded_patches.shape}')\u001b[39;00m\n\u001b[0;32m     <a href='vscode-notebook-cell:/c%3A/Users/jtrnka/Documents/GitHub/Face-Landmarking/Face-Landmarking/autoencoder.ipynb#W6sZmlsZQ%3D%3D?line=63'>64</a>\u001b[0m \n\u001b[1;32m   (...)\u001b[0m\n\u001b[0;32m     <a href='vscode-notebook-cell:/c%3A/Users/jtrnka/Documents/GitHub/Face-Landmarking/Face-Landmarking/autoencoder.ipynb#W6sZmlsZQ%3D%3D?line=74'>75</a>\u001b[0m \u001b[39m# Decode each group of patches independently\u001b[39;00m\n\u001b[0;32m     <a href='vscode-notebook-cell:/c%3A/Users/jtrnka/Documents/GitHub/Face-Landmarking/Face-Landmarking/autoencoder.ipynb#W6sZmlsZQ%3D%3D?line=75'>76</a>\u001b[0m \u001b[39m# Decode directly from encoder????\u001b[39;00m\n\u001b[1;32m---> <a href='vscode-notebook-cell:/c%3A/Users/jtrnka/Documents/GitHub/Face-Landmarking/Face-Landmarking/autoencoder.ipynb#W6sZmlsZQ%3D%3D?line=76'>77</a>\u001b[0m decoded_patches \u001b[39m=\u001b[39m \u001b[39mself\u001b[39;49m\u001b[39m.\u001b[39;49mdecoder(encoded_patches)\n\u001b[0;32m     <a href='vscode-notebook-cell:/c%3A/Users/jtrnka/Documents/GitHub/Face-Landmarking/Face-Landmarking/autoencoder.ipynb#W6sZmlsZQ%3D%3D?line=78'>79</a>\u001b[0m \u001b[39mreturn\u001b[39;00m decoded_patches\n",
      "File \u001b[1;32mc:\\Users\\jtrnka\\Documents\\GitHub\\Face-Landmarking\\Face-Landmarking\\face_env\\Lib\\site-packages\\torch\\nn\\modules\\module.py:1518\u001b[0m, in \u001b[0;36mModule._wrapped_call_impl\u001b[1;34m(self, *args, **kwargs)\u001b[0m\n\u001b[0;32m   1516\u001b[0m     \u001b[39mreturn\u001b[39;00m \u001b[39mself\u001b[39m\u001b[39m.\u001b[39m_compiled_call_impl(\u001b[39m*\u001b[39margs, \u001b[39m*\u001b[39m\u001b[39m*\u001b[39mkwargs)  \u001b[39m# type: ignore[misc]\u001b[39;00m\n\u001b[0;32m   1517\u001b[0m \u001b[39melse\u001b[39;00m:\n\u001b[1;32m-> 1518\u001b[0m     \u001b[39mreturn\u001b[39;00m \u001b[39mself\u001b[39;49m\u001b[39m.\u001b[39;49m_call_impl(\u001b[39m*\u001b[39;49margs, \u001b[39m*\u001b[39;49m\u001b[39m*\u001b[39;49mkwargs)\n",
      "File \u001b[1;32mc:\\Users\\jtrnka\\Documents\\GitHub\\Face-Landmarking\\Face-Landmarking\\face_env\\Lib\\site-packages\\torch\\nn\\modules\\module.py:1527\u001b[0m, in \u001b[0;36mModule._call_impl\u001b[1;34m(self, *args, **kwargs)\u001b[0m\n\u001b[0;32m   1522\u001b[0m \u001b[39m# If we don't have any hooks, we want to skip the rest of the logic in\u001b[39;00m\n\u001b[0;32m   1523\u001b[0m \u001b[39m# this function, and just call forward.\u001b[39;00m\n\u001b[0;32m   1524\u001b[0m \u001b[39mif\u001b[39;00m \u001b[39mnot\u001b[39;00m (\u001b[39mself\u001b[39m\u001b[39m.\u001b[39m_backward_hooks \u001b[39mor\u001b[39;00m \u001b[39mself\u001b[39m\u001b[39m.\u001b[39m_backward_pre_hooks \u001b[39mor\u001b[39;00m \u001b[39mself\u001b[39m\u001b[39m.\u001b[39m_forward_hooks \u001b[39mor\u001b[39;00m \u001b[39mself\u001b[39m\u001b[39m.\u001b[39m_forward_pre_hooks\n\u001b[0;32m   1525\u001b[0m         \u001b[39mor\u001b[39;00m _global_backward_pre_hooks \u001b[39mor\u001b[39;00m _global_backward_hooks\n\u001b[0;32m   1526\u001b[0m         \u001b[39mor\u001b[39;00m _global_forward_hooks \u001b[39mor\u001b[39;00m _global_forward_pre_hooks):\n\u001b[1;32m-> 1527\u001b[0m     \u001b[39mreturn\u001b[39;00m forward_call(\u001b[39m*\u001b[39;49margs, \u001b[39m*\u001b[39;49m\u001b[39m*\u001b[39;49mkwargs)\n\u001b[0;32m   1529\u001b[0m \u001b[39mtry\u001b[39;00m:\n\u001b[0;32m   1530\u001b[0m     result \u001b[39m=\u001b[39m \u001b[39mNone\u001b[39;00m\n",
      "File \u001b[1;32mc:\\Users\\jtrnka\\Documents\\GitHub\\Face-Landmarking\\Face-Landmarking\\face_env\\Lib\\site-packages\\torch\\nn\\modules\\container.py:215\u001b[0m, in \u001b[0;36mSequential.forward\u001b[1;34m(self, input)\u001b[0m\n\u001b[0;32m    213\u001b[0m \u001b[39mdef\u001b[39;00m \u001b[39mforward\u001b[39m(\u001b[39mself\u001b[39m, \u001b[39minput\u001b[39m):\n\u001b[0;32m    214\u001b[0m     \u001b[39mfor\u001b[39;00m module \u001b[39min\u001b[39;00m \u001b[39mself\u001b[39m:\n\u001b[1;32m--> 215\u001b[0m         \u001b[39minput\u001b[39m \u001b[39m=\u001b[39m module(\u001b[39minput\u001b[39;49m)\n\u001b[0;32m    216\u001b[0m     \u001b[39mreturn\u001b[39;00m \u001b[39minput\u001b[39m\n",
      "File \u001b[1;32mc:\\Users\\jtrnka\\Documents\\GitHub\\Face-Landmarking\\Face-Landmarking\\face_env\\Lib\\site-packages\\torch\\nn\\modules\\module.py:1518\u001b[0m, in \u001b[0;36mModule._wrapped_call_impl\u001b[1;34m(self, *args, **kwargs)\u001b[0m\n\u001b[0;32m   1516\u001b[0m     \u001b[39mreturn\u001b[39;00m \u001b[39mself\u001b[39m\u001b[39m.\u001b[39m_compiled_call_impl(\u001b[39m*\u001b[39margs, \u001b[39m*\u001b[39m\u001b[39m*\u001b[39mkwargs)  \u001b[39m# type: ignore[misc]\u001b[39;00m\n\u001b[0;32m   1517\u001b[0m \u001b[39melse\u001b[39;00m:\n\u001b[1;32m-> 1518\u001b[0m     \u001b[39mreturn\u001b[39;00m \u001b[39mself\u001b[39;49m\u001b[39m.\u001b[39;49m_call_impl(\u001b[39m*\u001b[39;49margs, \u001b[39m*\u001b[39;49m\u001b[39m*\u001b[39;49mkwargs)\n",
      "File \u001b[1;32mc:\\Users\\jtrnka\\Documents\\GitHub\\Face-Landmarking\\Face-Landmarking\\face_env\\Lib\\site-packages\\torch\\nn\\modules\\module.py:1527\u001b[0m, in \u001b[0;36mModule._call_impl\u001b[1;34m(self, *args, **kwargs)\u001b[0m\n\u001b[0;32m   1522\u001b[0m \u001b[39m# If we don't have any hooks, we want to skip the rest of the logic in\u001b[39;00m\n\u001b[0;32m   1523\u001b[0m \u001b[39m# this function, and just call forward.\u001b[39;00m\n\u001b[0;32m   1524\u001b[0m \u001b[39mif\u001b[39;00m \u001b[39mnot\u001b[39;00m (\u001b[39mself\u001b[39m\u001b[39m.\u001b[39m_backward_hooks \u001b[39mor\u001b[39;00m \u001b[39mself\u001b[39m\u001b[39m.\u001b[39m_backward_pre_hooks \u001b[39mor\u001b[39;00m \u001b[39mself\u001b[39m\u001b[39m.\u001b[39m_forward_hooks \u001b[39mor\u001b[39;00m \u001b[39mself\u001b[39m\u001b[39m.\u001b[39m_forward_pre_hooks\n\u001b[0;32m   1525\u001b[0m         \u001b[39mor\u001b[39;00m _global_backward_pre_hooks \u001b[39mor\u001b[39;00m _global_backward_hooks\n\u001b[0;32m   1526\u001b[0m         \u001b[39mor\u001b[39;00m _global_forward_hooks \u001b[39mor\u001b[39;00m _global_forward_pre_hooks):\n\u001b[1;32m-> 1527\u001b[0m     \u001b[39mreturn\u001b[39;00m forward_call(\u001b[39m*\u001b[39;49margs, \u001b[39m*\u001b[39;49m\u001b[39m*\u001b[39;49mkwargs)\n\u001b[0;32m   1529\u001b[0m \u001b[39mtry\u001b[39;00m:\n\u001b[0;32m   1530\u001b[0m     result \u001b[39m=\u001b[39m \u001b[39mNone\u001b[39;00m\n",
      "File \u001b[1;32mc:\\Users\\jtrnka\\Documents\\GitHub\\Face-Landmarking\\Face-Landmarking\\face_env\\Lib\\site-packages\\torch\\nn\\modules\\conv.py:460\u001b[0m, in \u001b[0;36mConv2d.forward\u001b[1;34m(self, input)\u001b[0m\n\u001b[0;32m    459\u001b[0m \u001b[39mdef\u001b[39;00m \u001b[39mforward\u001b[39m(\u001b[39mself\u001b[39m, \u001b[39minput\u001b[39m: Tensor) \u001b[39m-\u001b[39m\u001b[39m>\u001b[39m Tensor:\n\u001b[1;32m--> 460\u001b[0m     \u001b[39mreturn\u001b[39;00m \u001b[39mself\u001b[39;49m\u001b[39m.\u001b[39;49m_conv_forward(\u001b[39minput\u001b[39;49m, \u001b[39mself\u001b[39;49m\u001b[39m.\u001b[39;49mweight, \u001b[39mself\u001b[39;49m\u001b[39m.\u001b[39;49mbias)\n",
      "File \u001b[1;32mc:\\Users\\jtrnka\\Documents\\GitHub\\Face-Landmarking\\Face-Landmarking\\face_env\\Lib\\site-packages\\torch\\nn\\modules\\conv.py:456\u001b[0m, in \u001b[0;36mConv2d._conv_forward\u001b[1;34m(self, input, weight, bias)\u001b[0m\n\u001b[0;32m    452\u001b[0m \u001b[39mif\u001b[39;00m \u001b[39mself\u001b[39m\u001b[39m.\u001b[39mpadding_mode \u001b[39m!=\u001b[39m \u001b[39m'\u001b[39m\u001b[39mzeros\u001b[39m\u001b[39m'\u001b[39m:\n\u001b[0;32m    453\u001b[0m     \u001b[39mreturn\u001b[39;00m F\u001b[39m.\u001b[39mconv2d(F\u001b[39m.\u001b[39mpad(\u001b[39minput\u001b[39m, \u001b[39mself\u001b[39m\u001b[39m.\u001b[39m_reversed_padding_repeated_twice, mode\u001b[39m=\u001b[39m\u001b[39mself\u001b[39m\u001b[39m.\u001b[39mpadding_mode),\n\u001b[0;32m    454\u001b[0m                     weight, bias, \u001b[39mself\u001b[39m\u001b[39m.\u001b[39mstride,\n\u001b[0;32m    455\u001b[0m                     _pair(\u001b[39m0\u001b[39m), \u001b[39mself\u001b[39m\u001b[39m.\u001b[39mdilation, \u001b[39mself\u001b[39m\u001b[39m.\u001b[39mgroups)\n\u001b[1;32m--> 456\u001b[0m \u001b[39mreturn\u001b[39;00m F\u001b[39m.\u001b[39;49mconv2d(\u001b[39minput\u001b[39;49m, weight, bias, \u001b[39mself\u001b[39;49m\u001b[39m.\u001b[39;49mstride,\n\u001b[0;32m    457\u001b[0m                 \u001b[39mself\u001b[39;49m\u001b[39m.\u001b[39;49mpadding, \u001b[39mself\u001b[39;49m\u001b[39m.\u001b[39;49mdilation, \u001b[39mself\u001b[39;49m\u001b[39m.\u001b[39;49mgroups)\n",
      "\u001b[1;31mKeyboardInterrupt\u001b[0m: "
     ]
    }
   ],
   "source": [
    "model1 = MulticropAutoencoder(num_landmarks, crop_size, crop_size, encoding_dim)\n",
    "model2 = MulticropAutoencoder(num_landmarks, crop_size, crop_size, encoding_dim)\n",
    "num_epochs = 10  # Adjust based on your requirements\n",
    "criterion1 = nn.MSELoss()  # Mean Squared Error loss for regression tasks\n",
    "criterion2 = nn.CrossEntropyLoss()\n",
    "optimizer1 = torch.optim.Adam(model1.parameters(), lr=0.005)\n",
    "optimizer2 = torch.optim.Adam(model2.parameters(), lr=0.001)\n",
    "dataloader = DataLoader(dataset, batch_size=200, shuffle=True)\n",
    "\n",
    "model1.train()\n",
    "model2.train()\n",
    "# from torchmetrics.image import StructuralSimilarityIndexMeasure\n",
    "\n",
    "# ssim = StructuralSimilarityIndexMeasure(data_range=255)\n",
    "# ssim(preds, target)\n",
    "\n",
    "loss1_cache = []\n",
    "loss2_cache = []\n",
    "loss3_cache = {'model1':[], 'model2':[]}\n",
    "\n",
    "for epoch in range(num_epochs):\n",
    "\n",
    "    for i, batch in enumerate(dataloader):\n",
    "        optimizer1.zero_grad()\n",
    "        optimizer2.zero_grad()\n",
    "        x, y, multicrop = batch\n",
    "\n",
    "        # Forward pass\n",
    "        reconstruction1 = 255 * model1(multicrop/255)\n",
    "        loss1 = criterion1(reconstruction1, multicrop)\n",
    "        reconstruction2 = 255 * model2(multicrop/255)\n",
    "        loss2 = criterion2(reconstruction2/255, multicrop/255)\n",
    "        loss3 = criterion1(reconstruction2, multicrop)\n",
    "        \n",
    "        loss1_cache.append(loss1.item())\n",
    "        loss1.backward()\n",
    "        optimizer1.step()\n",
    "        \n",
    "        loss2_cache.append(loss2.item())\n",
    "        loss2.backward()\n",
    "        optimizer2.step()\n",
    "        \n",
    "        loss3_cache['model1'].append(loss1.item())\n",
    "        loss3_cache['model2'].append(loss3.item())\n",
    "\n",
    "        print(f'Epoch [{epoch},{i + 1}], Loss: {loss1.item()}, {loss3.item()}', end='\\r')"
   ]
  },
  {
   "cell_type": "code",
   "execution_count": 11,
   "metadata": {},
   "outputs": [
    {
     "data": {
      "application/vnd.plotly.v1+json": {
       "config": {
        "plotlyServerURL": "https://plot.ly"
       },
       "data": [
        {
         "hovertext": "model1",
         "mode": "lines",
         "name": "model1",
         "type": "scatter",
         "x": [
          0,
          1,
          2,
          3,
          4,
          5,
          6,
          7,
          8,
          9,
          10
         ],
         "y": [
          3827.2236328125,
          3376.5556640625,
          2748.3154296875,
          2121.646484375,
          1608.260498046875,
          1428.4735107421875,
          1044.8775634765625,
          1000.2349243164062,
          916.2958374023438,
          837.9822387695312,
          789.8807983398438
         ]
        },
        {
         "hovertext": "model2",
         "mode": "lines",
         "name": "model2",
         "type": "scatter",
         "x": [
          0,
          1,
          2,
          3,
          4,
          5,
          6,
          7,
          8,
          9,
          10
         ],
         "y": [
          3830.768798828125,
          3664.5869140625,
          3470.510009765625,
          3271.244384765625,
          3403.455810546875,
          3731.972412109375,
          3561.900146484375,
          3607.194580078125,
          3894.244873046875,
          3967.155517578125,
          4320.5341796875
         ]
        }
       ],
       "layout": {
        "template": {
         "data": {
          "bar": [
           {
            "error_x": {
             "color": "#2a3f5f"
            },
            "error_y": {
             "color": "#2a3f5f"
            },
            "marker": {
             "line": {
              "color": "#E5ECF6",
              "width": 0.5
             },
             "pattern": {
              "fillmode": "overlay",
              "size": 10,
              "solidity": 0.2
             }
            },
            "type": "bar"
           }
          ],
          "barpolar": [
           {
            "marker": {
             "line": {
              "color": "#E5ECF6",
              "width": 0.5
             },
             "pattern": {
              "fillmode": "overlay",
              "size": 10,
              "solidity": 0.2
             }
            },
            "type": "barpolar"
           }
          ],
          "carpet": [
           {
            "aaxis": {
             "endlinecolor": "#2a3f5f",
             "gridcolor": "white",
             "linecolor": "white",
             "minorgridcolor": "white",
             "startlinecolor": "#2a3f5f"
            },
            "baxis": {
             "endlinecolor": "#2a3f5f",
             "gridcolor": "white",
             "linecolor": "white",
             "minorgridcolor": "white",
             "startlinecolor": "#2a3f5f"
            },
            "type": "carpet"
           }
          ],
          "choropleth": [
           {
            "colorbar": {
             "outlinewidth": 0,
             "ticks": ""
            },
            "type": "choropleth"
           }
          ],
          "contour": [
           {
            "colorbar": {
             "outlinewidth": 0,
             "ticks": ""
            },
            "colorscale": [
             [
              0,
              "#0d0887"
             ],
             [
              0.1111111111111111,
              "#46039f"
             ],
             [
              0.2222222222222222,
              "#7201a8"
             ],
             [
              0.3333333333333333,
              "#9c179e"
             ],
             [
              0.4444444444444444,
              "#bd3786"
             ],
             [
              0.5555555555555556,
              "#d8576b"
             ],
             [
              0.6666666666666666,
              "#ed7953"
             ],
             [
              0.7777777777777778,
              "#fb9f3a"
             ],
             [
              0.8888888888888888,
              "#fdca26"
             ],
             [
              1,
              "#f0f921"
             ]
            ],
            "type": "contour"
           }
          ],
          "contourcarpet": [
           {
            "colorbar": {
             "outlinewidth": 0,
             "ticks": ""
            },
            "type": "contourcarpet"
           }
          ],
          "heatmap": [
           {
            "colorbar": {
             "outlinewidth": 0,
             "ticks": ""
            },
            "colorscale": [
             [
              0,
              "#0d0887"
             ],
             [
              0.1111111111111111,
              "#46039f"
             ],
             [
              0.2222222222222222,
              "#7201a8"
             ],
             [
              0.3333333333333333,
              "#9c179e"
             ],
             [
              0.4444444444444444,
              "#bd3786"
             ],
             [
              0.5555555555555556,
              "#d8576b"
             ],
             [
              0.6666666666666666,
              "#ed7953"
             ],
             [
              0.7777777777777778,
              "#fb9f3a"
             ],
             [
              0.8888888888888888,
              "#fdca26"
             ],
             [
              1,
              "#f0f921"
             ]
            ],
            "type": "heatmap"
           }
          ],
          "heatmapgl": [
           {
            "colorbar": {
             "outlinewidth": 0,
             "ticks": ""
            },
            "colorscale": [
             [
              0,
              "#0d0887"
             ],
             [
              0.1111111111111111,
              "#46039f"
             ],
             [
              0.2222222222222222,
              "#7201a8"
             ],
             [
              0.3333333333333333,
              "#9c179e"
             ],
             [
              0.4444444444444444,
              "#bd3786"
             ],
             [
              0.5555555555555556,
              "#d8576b"
             ],
             [
              0.6666666666666666,
              "#ed7953"
             ],
             [
              0.7777777777777778,
              "#fb9f3a"
             ],
             [
              0.8888888888888888,
              "#fdca26"
             ],
             [
              1,
              "#f0f921"
             ]
            ],
            "type": "heatmapgl"
           }
          ],
          "histogram": [
           {
            "marker": {
             "pattern": {
              "fillmode": "overlay",
              "size": 10,
              "solidity": 0.2
             }
            },
            "type": "histogram"
           }
          ],
          "histogram2d": [
           {
            "colorbar": {
             "outlinewidth": 0,
             "ticks": ""
            },
            "colorscale": [
             [
              0,
              "#0d0887"
             ],
             [
              0.1111111111111111,
              "#46039f"
             ],
             [
              0.2222222222222222,
              "#7201a8"
             ],
             [
              0.3333333333333333,
              "#9c179e"
             ],
             [
              0.4444444444444444,
              "#bd3786"
             ],
             [
              0.5555555555555556,
              "#d8576b"
             ],
             [
              0.6666666666666666,
              "#ed7953"
             ],
             [
              0.7777777777777778,
              "#fb9f3a"
             ],
             [
              0.8888888888888888,
              "#fdca26"
             ],
             [
              1,
              "#f0f921"
             ]
            ],
            "type": "histogram2d"
           }
          ],
          "histogram2dcontour": [
           {
            "colorbar": {
             "outlinewidth": 0,
             "ticks": ""
            },
            "colorscale": [
             [
              0,
              "#0d0887"
             ],
             [
              0.1111111111111111,
              "#46039f"
             ],
             [
              0.2222222222222222,
              "#7201a8"
             ],
             [
              0.3333333333333333,
              "#9c179e"
             ],
             [
              0.4444444444444444,
              "#bd3786"
             ],
             [
              0.5555555555555556,
              "#d8576b"
             ],
             [
              0.6666666666666666,
              "#ed7953"
             ],
             [
              0.7777777777777778,
              "#fb9f3a"
             ],
             [
              0.8888888888888888,
              "#fdca26"
             ],
             [
              1,
              "#f0f921"
             ]
            ],
            "type": "histogram2dcontour"
           }
          ],
          "mesh3d": [
           {
            "colorbar": {
             "outlinewidth": 0,
             "ticks": ""
            },
            "type": "mesh3d"
           }
          ],
          "parcoords": [
           {
            "line": {
             "colorbar": {
              "outlinewidth": 0,
              "ticks": ""
             }
            },
            "type": "parcoords"
           }
          ],
          "pie": [
           {
            "automargin": true,
            "type": "pie"
           }
          ],
          "scatter": [
           {
            "fillpattern": {
             "fillmode": "overlay",
             "size": 10,
             "solidity": 0.2
            },
            "type": "scatter"
           }
          ],
          "scatter3d": [
           {
            "line": {
             "colorbar": {
              "outlinewidth": 0,
              "ticks": ""
             }
            },
            "marker": {
             "colorbar": {
              "outlinewidth": 0,
              "ticks": ""
             }
            },
            "type": "scatter3d"
           }
          ],
          "scattercarpet": [
           {
            "marker": {
             "colorbar": {
              "outlinewidth": 0,
              "ticks": ""
             }
            },
            "type": "scattercarpet"
           }
          ],
          "scattergeo": [
           {
            "marker": {
             "colorbar": {
              "outlinewidth": 0,
              "ticks": ""
             }
            },
            "type": "scattergeo"
           }
          ],
          "scattergl": [
           {
            "marker": {
             "colorbar": {
              "outlinewidth": 0,
              "ticks": ""
             }
            },
            "type": "scattergl"
           }
          ],
          "scattermapbox": [
           {
            "marker": {
             "colorbar": {
              "outlinewidth": 0,
              "ticks": ""
             }
            },
            "type": "scattermapbox"
           }
          ],
          "scatterpolar": [
           {
            "marker": {
             "colorbar": {
              "outlinewidth": 0,
              "ticks": ""
             }
            },
            "type": "scatterpolar"
           }
          ],
          "scatterpolargl": [
           {
            "marker": {
             "colorbar": {
              "outlinewidth": 0,
              "ticks": ""
             }
            },
            "type": "scatterpolargl"
           }
          ],
          "scatterternary": [
           {
            "marker": {
             "colorbar": {
              "outlinewidth": 0,
              "ticks": ""
             }
            },
            "type": "scatterternary"
           }
          ],
          "surface": [
           {
            "colorbar": {
             "outlinewidth": 0,
             "ticks": ""
            },
            "colorscale": [
             [
              0,
              "#0d0887"
             ],
             [
              0.1111111111111111,
              "#46039f"
             ],
             [
              0.2222222222222222,
              "#7201a8"
             ],
             [
              0.3333333333333333,
              "#9c179e"
             ],
             [
              0.4444444444444444,
              "#bd3786"
             ],
             [
              0.5555555555555556,
              "#d8576b"
             ],
             [
              0.6666666666666666,
              "#ed7953"
             ],
             [
              0.7777777777777778,
              "#fb9f3a"
             ],
             [
              0.8888888888888888,
              "#fdca26"
             ],
             [
              1,
              "#f0f921"
             ]
            ],
            "type": "surface"
           }
          ],
          "table": [
           {
            "cells": {
             "fill": {
              "color": "#EBF0F8"
             },
             "line": {
              "color": "white"
             }
            },
            "header": {
             "fill": {
              "color": "#C8D4E3"
             },
             "line": {
              "color": "white"
             }
            },
            "type": "table"
           }
          ]
         },
         "layout": {
          "annotationdefaults": {
           "arrowcolor": "#2a3f5f",
           "arrowhead": 0,
           "arrowwidth": 1
          },
          "autotypenumbers": "strict",
          "coloraxis": {
           "colorbar": {
            "outlinewidth": 0,
            "ticks": ""
           }
          },
          "colorscale": {
           "diverging": [
            [
             0,
             "#8e0152"
            ],
            [
             0.1,
             "#c51b7d"
            ],
            [
             0.2,
             "#de77ae"
            ],
            [
             0.3,
             "#f1b6da"
            ],
            [
             0.4,
             "#fde0ef"
            ],
            [
             0.5,
             "#f7f7f7"
            ],
            [
             0.6,
             "#e6f5d0"
            ],
            [
             0.7,
             "#b8e186"
            ],
            [
             0.8,
             "#7fbc41"
            ],
            [
             0.9,
             "#4d9221"
            ],
            [
             1,
             "#276419"
            ]
           ],
           "sequential": [
            [
             0,
             "#0d0887"
            ],
            [
             0.1111111111111111,
             "#46039f"
            ],
            [
             0.2222222222222222,
             "#7201a8"
            ],
            [
             0.3333333333333333,
             "#9c179e"
            ],
            [
             0.4444444444444444,
             "#bd3786"
            ],
            [
             0.5555555555555556,
             "#d8576b"
            ],
            [
             0.6666666666666666,
             "#ed7953"
            ],
            [
             0.7777777777777778,
             "#fb9f3a"
            ],
            [
             0.8888888888888888,
             "#fdca26"
            ],
            [
             1,
             "#f0f921"
            ]
           ],
           "sequentialminus": [
            [
             0,
             "#0d0887"
            ],
            [
             0.1111111111111111,
             "#46039f"
            ],
            [
             0.2222222222222222,
             "#7201a8"
            ],
            [
             0.3333333333333333,
             "#9c179e"
            ],
            [
             0.4444444444444444,
             "#bd3786"
            ],
            [
             0.5555555555555556,
             "#d8576b"
            ],
            [
             0.6666666666666666,
             "#ed7953"
            ],
            [
             0.7777777777777778,
             "#fb9f3a"
            ],
            [
             0.8888888888888888,
             "#fdca26"
            ],
            [
             1,
             "#f0f921"
            ]
           ]
          },
          "colorway": [
           "#636efa",
           "#EF553B",
           "#00cc96",
           "#ab63fa",
           "#FFA15A",
           "#19d3f3",
           "#FF6692",
           "#B6E880",
           "#FF97FF",
           "#FECB52"
          ],
          "font": {
           "color": "#2a3f5f"
          },
          "geo": {
           "bgcolor": "white",
           "lakecolor": "white",
           "landcolor": "#E5ECF6",
           "showlakes": true,
           "showland": true,
           "subunitcolor": "white"
          },
          "hoverlabel": {
           "align": "left"
          },
          "hovermode": "closest",
          "mapbox": {
           "style": "light"
          },
          "paper_bgcolor": "white",
          "plot_bgcolor": "#E5ECF6",
          "polar": {
           "angularaxis": {
            "gridcolor": "white",
            "linecolor": "white",
            "ticks": ""
           },
           "bgcolor": "#E5ECF6",
           "radialaxis": {
            "gridcolor": "white",
            "linecolor": "white",
            "ticks": ""
           }
          },
          "scene": {
           "xaxis": {
            "backgroundcolor": "#E5ECF6",
            "gridcolor": "white",
            "gridwidth": 2,
            "linecolor": "white",
            "showbackground": true,
            "ticks": "",
            "zerolinecolor": "white"
           },
           "yaxis": {
            "backgroundcolor": "#E5ECF6",
            "gridcolor": "white",
            "gridwidth": 2,
            "linecolor": "white",
            "showbackground": true,
            "ticks": "",
            "zerolinecolor": "white"
           },
           "zaxis": {
            "backgroundcolor": "#E5ECF6",
            "gridcolor": "white",
            "gridwidth": 2,
            "linecolor": "white",
            "showbackground": true,
            "ticks": "",
            "zerolinecolor": "white"
           }
          },
          "shapedefaults": {
           "line": {
            "color": "#2a3f5f"
           }
          },
          "ternary": {
           "aaxis": {
            "gridcolor": "white",
            "linecolor": "white",
            "ticks": ""
           },
           "baxis": {
            "gridcolor": "white",
            "linecolor": "white",
            "ticks": ""
           },
           "bgcolor": "#E5ECF6",
           "caxis": {
            "gridcolor": "white",
            "linecolor": "white",
            "ticks": ""
           }
          },
          "title": {
           "x": 0.05
          },
          "xaxis": {
           "automargin": true,
           "gridcolor": "white",
           "linecolor": "white",
           "ticks": "",
           "title": {
            "standoff": 15
           },
           "zerolinecolor": "white",
           "zerolinewidth": 2
          },
          "yaxis": {
           "automargin": true,
           "gridcolor": "white",
           "linecolor": "white",
           "ticks": "",
           "title": {
            "standoff": 15
           },
           "zerolinecolor": "white",
           "zerolinewidth": 2
          }
         }
        }
       }
      }
     },
     "metadata": {},
     "output_type": "display_data"
    }
   ],
   "source": [
    "import plotly.graph_objs as go\n",
    "fig = go.Figure()\n",
    "\n",
    "scatter1 = go.Scatter(\n",
    "    x=list(range(len(loss1_cache))),\n",
    "    y=loss1_cache,\n",
    "    mode='lines',\n",
    "    name='model1',\n",
    "    hovertext='model1'\n",
    "    )\n",
    "fig.add_trace(scatter1)\n",
    "\n",
    "scatter2 = go.Scatter(\n",
    "    x=list(range(len(loss3_cache['model2']))),\n",
    "    y=loss3_cache['model2'],\n",
    "    mode='lines',\n",
    "    name='model2',\n",
    "    hovertext='model2'\n",
    "    )\n",
    "\n",
    "fig.add_trace(scatter2)\n",
    "\n",
    "fig.show()"
   ]
  },
  {
   "cell_type": "code",
   "execution_count": 13,
   "metadata": {},
   "outputs": [],
   "source": [
    "result = model1(multicrop[:10])"
   ]
  },
  {
   "cell_type": "code",
   "execution_count": 39,
   "metadata": {},
   "outputs": [
    {
     "data": {
      "image/png": "[encoded data removed]",
      "text/plain": [
       "<Figure size 640x480 with 1 Axes>"
      ]
     },
     "metadata": {},
     "output_type": "display_data"
    },
    {
     "data": {
      "image/png": "[encoded data removed]",
      "text/plain": [
       "<Figure size 640x480 with 1 Axes>"
      ]
     },
     "metadata": {},
     "output_type": "display_data"
    }
   ],
   "source": [
    "#num_landmark = 0\n",
    "num_landmark += 1\n",
    "plt.imshow(multicrop[0, num_landmark: num_landmark + 1, :,:].permute(1,2,0).type(torch.int))\n",
    "plt.show()\n",
    "plt.imshow(result[0, num_landmark: num_landmark + 1, :,:].permute(1,2,0).detach())\n",
    "plt.show()"
   ]
  },
  {
   "cell_type": "code",
   "execution_count": null,
   "metadata": {},
   "outputs": [],
   "source": []
  },
  {
   "cell_type": "code",
   "execution_count": null,
   "metadata": {},
   "outputs": [],
   "source": []
  },
  {
   "cell_type": "code",
   "execution_count": null,
   "metadata": {},
   "outputs": [],
   "source": []
  },
  {
   "cell_type": "code",
   "execution_count": null,
   "metadata": {},
   "outputs": [
    {
     "data": {
      "image/png": "[encoded data removed]",
      "text/plain": [
       "<Figure size 640x480 with 1 Axes>"
      ]
     },
     "metadata": {},
     "output_type": "display_data"
    },
    {
     "name": "stdout",
     "output_type": "stream",
     "text": [
      "(100, 100)\n"
     ]
    },
    {
     "data": {
      "image/png": "[encoded data removed]",
      "text/plain": [
       "<Figure size 640x480 with 1 Axes>"
      ]
     },
     "metadata": {},
     "output_type": "display_data"
    }
   ],
   "source": [
    "edges = get_edges(crop)\n",
    "plt.imshow(edges)\n",
    "plt.show()\n",
    "print(edges.shape)\n",
    "m = nn.MaxPool2d(3, stride=3)\n",
    "#avg_edges = m(torch.from_numpy(edges).unsqueeze(0)/255)\n",
    "avg_edges = F.avg_pool2d(torch.from_numpy(edges).unsqueeze(0).unsqueeze(0)/255, kernel_size=5)\n",
    "plt.imshow(avg_edges.squeeze().numpy()[:,:,None])\n",
    "plt.show()"
   ]
  },
  {
   "cell_type": "code",
   "execution_count": null,
   "metadata": {},
   "outputs": [
    {
     "name": "stdout",
     "output_type": "stream",
     "text": [
      "tensor([317])\n"
     ]
    },
    {
     "ename": "ValueError",
     "evalue": "not enough values to unpack (expected 5, got 3)",
     "output_type": "error",
     "traceback": [
      "\u001b[1;31m---------------------------------------------------------------------------\u001b[0m",
      "\u001b[1;31mValueError\u001b[0m                                Traceback (most recent call last)",
      "\u001b[1;32mc:\\Users\\jtrnka\\Documents\\GitHub\\Face-Landmarking\\Face-Landmarking\\template_matching.ipynb Cell 8\u001b[0m line \u001b[0;36m2\n\u001b[0;32m     <a href='vscode-notebook-cell:/c%3A/Users/jtrnka/Documents/GitHub/Face-Landmarking/Face-Landmarking/template_matching.ipynb#X10sZmlsZQ%3D%3D?line=17'>18</a>\u001b[0m \u001b[39m#idx = 506\u001b[39;00m\n\u001b[0;32m     <a href='vscode-notebook-cell:/c%3A/Users/jtrnka/Documents/GitHub/Face-Landmarking/Face-Landmarking/template_matching.ipynb#X10sZmlsZQ%3D%3D?line=18'>19</a>\u001b[0m batch \u001b[39m=\u001b[39m dataset\u001b[39m.\u001b[39m\u001b[39m__getitem__\u001b[39m(idx)\n\u001b[1;32m---> <a href='vscode-notebook-cell:/c%3A/Users/jtrnka/Documents/GitHub/Face-Landmarking/Face-Landmarking/template_matching.ipynb#X10sZmlsZQ%3D%3D?line=19'>20</a>\u001b[0m inputs, targets, _, subimage, image \u001b[39m=\u001b[39m batch\n\u001b[0;32m     <a href='vscode-notebook-cell:/c%3A/Users/jtrnka/Documents/GitHub/Face-Landmarking/Face-Landmarking/template_matching.ipynb#X10sZmlsZQ%3D%3D?line=20'>21</a>\u001b[0m y \u001b[39m=\u001b[39m targets\u001b[39m.\u001b[39mreshape(\u001b[39m-\u001b[39m\u001b[39m1\u001b[39m,\u001b[39m2\u001b[39m)\n\u001b[0;32m     <a href='vscode-notebook-cell:/c%3A/Users/jtrnka/Documents/GitHub/Face-Landmarking/Face-Landmarking/template_matching.ipynb#X10sZmlsZQ%3D%3D?line=22'>23</a>\u001b[0m \u001b[39m#display_landmarks(y[landmark_num:landmark_num+1,:], image, origin='upper_left')\u001b[39;00m\n\u001b[0;32m     <a href='vscode-notebook-cell:/c%3A/Users/jtrnka/Documents/GitHub/Face-Landmarking/Face-Landmarking/template_matching.ipynb#X10sZmlsZQ%3D%3D?line=23'>24</a>\u001b[0m \n\u001b[0;32m     <a href='vscode-notebook-cell:/c%3A/Users/jtrnka/Documents/GitHub/Face-Landmarking/Face-Landmarking/template_matching.ipynb#X10sZmlsZQ%3D%3D?line=24'>25</a>\u001b[0m \u001b[39m# crop_pixel_center = [int(y[landmark_num,0].item() * image.shape[1]), int(y[landmark_num,1].item() * image.shape[0])]\u001b[39;00m\n\u001b[0;32m     <a href='vscode-notebook-cell:/c%3A/Users/jtrnka/Documents/GitHub/Face-Landmarking/Face-Landmarking/template_matching.ipynb#X10sZmlsZQ%3D%3D?line=25'>26</a>\u001b[0m \u001b[39m# crop_size = 100\u001b[39;00m\n\u001b[0;32m     <a href='vscode-notebook-cell:/c%3A/Users/jtrnka/Documents/GitHub/Face-Landmarking/Face-Landmarking/template_matching.ipynb#X10sZmlsZQ%3D%3D?line=26'>27</a>\u001b[0m \u001b[39m# crop = image[crop_pixel_center[1] - crop_size//2: crop_pixel_center[1] + crop_size//2, crop_pixel_center[0] - crop_size//2: crop_pixel_center[0] + crop_size//2,:]\u001b[39;00m\n",
      "\u001b[1;31mValueError\u001b[0m: not enough values to unpack (expected 5, got 3)"
     ]
    }
   ],
   "source": [
    "def get_edges(image, threshold1=50, threshold2=150):\n",
    "    img_blur = cv2.GaussianBlur(image, (3,3), 5) \n",
    "    edges = cv2.Canny(image=img_blur, threshold1=threshold1, threshold2=threshold2) \n",
    "    return edges\n",
    "    \n",
    "\n",
    "\n",
    "# sharpen_kernel = np.array([[-1, -1, -1],\n",
    "#                            [-1, 9, -1],\n",
    "#                            [-1, -1, -1]])  # Sharpening kernel\n",
    "# sharpened_image = cv2.filter2D(crop, -1, sharpen_kernel)\n",
    "# plt.imshow(sharpened_image)\n",
    "\n",
    "landmark_num = 20\n",
    "\n",
    "idx = torch.randint(dataset.__len__(),(1,))\n",
    "print(idx)\n",
    "#idx = 506\n",
    "batch = dataset.__getitem__(idx)\n",
    "inputs, targets, _, subimage, image = batch\n",
    "y = targets.reshape(-1,2)\n",
    "\n",
    "#display_landmarks(y[landmark_num:landmark_num+1,:], image, origin='upper_left')\n",
    "\n",
    "# crop_pixel_center = [int(y[landmark_num,0].item() * image.shape[1]), int(y[landmark_num,1].item() * image.shape[0])]\n",
    "# crop_size = 100\n",
    "# crop = image[crop_pixel_center[1] - crop_size//2: crop_pixel_center[1] + crop_size//2, crop_pixel_center[0] - crop_size//2: crop_pixel_center[0] + crop_size//2,:]\n",
    "\n",
    "img_blur = cv2.GaussianBlur(subimage, (3,3), 5) \n",
    "#plt.imshow(img_blur) \n",
    "\n",
    "# sobelx = cv2.Sobel(src=img_blur, ddepth=cv2.CV_64F, dx=1, dy=0, ksize=5) # Sobel Edge Detection on the X axis\n",
    "# sobely = cv2.Sobel(src=img_blur, ddepth=cv2.CV_64F, dx=0, dy=1, ksize=5) # Sobel Edge Detection on the Y axis\n",
    "# sobelxy = cv2.Sobel(src=img_blur, ddepth=cv2.CV_64F, dx=1, dy=1, ksize=5)\n",
    "# plt.imshow(sobelxy)\n",
    " \n",
    "# #Canny Edge Detection\n",
    "edges = cv2.Canny(image=img_blur, threshold1=50, threshold2=150) \n",
    "plt.imshow(edges)\n",
    "\n",
    "image = edges.copy()"
   ]
  },
  {
   "cell_type": "code",
   "execution_count": null,
   "metadata": {},
   "outputs": [],
   "source": [
    "# making average multicrop\n",
    "# preparation dataset\n",
    "def get_avg_template(prep_dataset, template_size):\n",
    "    multicrops = []\n",
    "    for i in range(200):\n",
    "        idx = torch.randint(prep_dataset.__len__(),(1,))\n",
    "        batch = prep_dataset.__getitem__(idx)\n",
    "        _, targets, _, subimage, image = batch\n",
    "        img_blur = cv2.GaussianBlur(subimage, (3,3), 5) \n",
    "        edges = cv2.Canny(image=img_blur, threshold1=50, threshold2=150) \n",
    "        image = torch.from_numpy(edges).unsqueeze(-1)\n",
    "        multicrop = make_landmark_crops(targets.reshape(1,-1), image, template_size)\n",
    "        multicrops.append(multicrop)\n",
    "\n",
    "    return torch.mean(torch.stack(multicrops, dim=0), dim=0)\n",
    "\n",
    "avg_multicrop = get_avg_template(dataset, 30)\n"
   ]
  },
  {
   "cell_type": "code",
   "execution_count": null,
   "metadata": {},
   "outputs": [
    {
     "data": {
      "text/plain": [
       "<matplotlib.image.AxesImage at 0x19a4044f550>"
      ]
     },
     "execution_count": 21,
     "metadata": {},
     "output_type": "execute_result"
    },
    {
     "data": {
      "image/png": "[encoded data removed]",
      "text/plain": [
       "<Figure size 640x480 with 1 Axes>"
      ]
     },
     "metadata": {},
     "output_type": "display_data"
    }
   ],
   "source": [
    "plt.imshow(avg_multicrop[landmark_num,:,:])"
   ]
  },
  {
   "cell_type": "code",
   "execution_count": null,
   "metadata": {},
   "outputs": [
    {
     "name": "stdout",
     "output_type": "stream",
     "text": [
      "tensor([[0.5113, 0.1693, 0.4981, 0.7453, 0.4952, 0.6525, 0.5593, 0.6367, 0.4411,\n",
      "         0.6346, 0.6181, 0.6154, 0.3870, 0.6101, 0.4934, 0.5881, 0.5220, 0.5829,\n",
      "         0.4704, 0.5814, 0.5708, 0.5964, 0.4267, 0.5930, 0.4886, 0.5422, 0.5256,\n",
      "         0.5207, 0.4535, 0.5201, 0.5731, 0.5233, 0.4195, 0.5220, 0.4335, 0.4894,\n",
      "         0.5504, 0.4904, 0.4278, 0.4097, 0.3233, 0.3968, 0.3765, 0.3809, 0.3748,\n",
      "         0.4092, 0.3533, 0.3894, 0.3982, 0.3898, 0.4115, 0.4117, 0.5706, 0.4098,\n",
      "         0.6809, 0.3955, 0.6318, 0.4071, 0.6321, 0.3809, 0.6551, 0.3899, 0.6103,\n",
      "         0.3895, 0.5951, 0.4079, 0.2599, 0.3591, 0.4422, 0.3542, 0.7521, 0.3558,\n",
      "         0.5619, 0.3487, 0.5976, 0.3228, 0.6601, 0.3201, 0.7157, 0.3326, 0.6055,\n",
      "         0.3360, 0.6559, 0.3320, 0.7088, 0.3412, 0.2929, 0.3321, 0.3515, 0.3228,\n",
      "         0.4126, 0.3299, 0.3009, 0.3420, 0.3500, 0.3359, 0.4002, 0.3418, 0.2222,\n",
      "         0.4352, 0.2325, 0.4800, 0.2413, 0.5270, 0.2489, 0.5740, 0.2578, 0.6188,\n",
      "         0.2871, 0.6616, 0.3288, 0.6936, 0.3815, 0.7213, 0.4370, 0.7371, 0.7931,\n",
      "         0.4412, 0.7870, 0.4903, 0.7796, 0.5339, 0.7681, 0.5818, 0.7579, 0.6275,\n",
      "         0.7288, 0.6676, 0.6836, 0.6978, 0.6302, 0.7213, 0.5688, 0.7382, 0.4958,\n",
      "         0.6110, 0.5625, 0.6051, 0.4469, 0.6062, 0.3751, 0.3896, 0.6306, 0.3896]]) torch.Size([623, 500]) 30\n"
     ]
    },
    {
     "ename": "UnboundLocalError",
     "evalue": "cannot access local variable 'multicrop' where it is not associated with a value",
     "output_type": "error",
     "traceback": [
      "\u001b[1;31m---------------------------------------------------------------------------\u001b[0m",
      "\u001b[1;31mUnboundLocalError\u001b[0m                         Traceback (most recent call last)",
      "\u001b[1;32mc:\\Users\\jtrnka\\Documents\\GitHub\\Face-Landmarking\\Face-Landmarking\\template_matching.ipynb Cell 11\u001b[0m line \u001b[0;36m3\n\u001b[0;32m      <a href='vscode-notebook-cell:/c%3A/Users/jtrnka/Documents/GitHub/Face-Landmarking/Face-Landmarking/template_matching.ipynb#X13sZmlsZQ%3D%3D?line=0'>1</a>\u001b[0m \u001b[39mfrom\u001b[39;00m \u001b[39mcropping\u001b[39;00m \u001b[39mimport\u001b[39;00m make_landmark_crops\n\u001b[0;32m      <a href='vscode-notebook-cell:/c%3A/Users/jtrnka/Documents/GitHub/Face-Landmarking/Face-Landmarking/template_matching.ipynb#X13sZmlsZQ%3D%3D?line=1'>2</a>\u001b[0m \u001b[39m#image = torch.from_numpy(edges).unsqueeze(-1)\u001b[39;00m\n\u001b[1;32m----> <a href='vscode-notebook-cell:/c%3A/Users/jtrnka/Documents/GitHub/Face-Landmarking/Face-Landmarking/template_matching.ipynb#X13sZmlsZQ%3D%3D?line=2'>3</a>\u001b[0m multicrop \u001b[39m=\u001b[39m make_landmark_crops(y\u001b[39m.\u001b[39;49mreshape(\u001b[39m1\u001b[39;49m,\u001b[39m-\u001b[39;49m\u001b[39m1\u001b[39;49m), image, \u001b[39m30\u001b[39;49m)\n\u001b[0;32m      <a href='vscode-notebook-cell:/c%3A/Users/jtrnka/Documents/GitHub/Face-Landmarking/Face-Landmarking/template_matching.ipynb#X13sZmlsZQ%3D%3D?line=3'>4</a>\u001b[0m num_landmark \u001b[39m=\u001b[39m \u001b[39m0\u001b[39m\n",
      "File \u001b[1;32mc:\\Users\\jtrnka\\Documents\\GitHub\\Face-Landmarking\\Face-Landmarking\\face_env\\Lib\\site-packages\\torch\\utils\\_contextlib.py:115\u001b[0m, in \u001b[0;36mcontext_decorator.<locals>.decorate_context\u001b[1;34m(*args, **kwargs)\u001b[0m\n\u001b[0;32m    112\u001b[0m \u001b[39m@functools\u001b[39m\u001b[39m.\u001b[39mwraps(func)\n\u001b[0;32m    113\u001b[0m \u001b[39mdef\u001b[39;00m \u001b[39mdecorate_context\u001b[39m(\u001b[39m*\u001b[39margs, \u001b[39m*\u001b[39m\u001b[39m*\u001b[39mkwargs):\n\u001b[0;32m    114\u001b[0m     \u001b[39mwith\u001b[39;00m ctx_factory():\n\u001b[1;32m--> 115\u001b[0m         \u001b[39mreturn\u001b[39;00m func(\u001b[39m*\u001b[39;49margs, \u001b[39m*\u001b[39;49m\u001b[39m*\u001b[39;49mkwargs)\n",
      "File \u001b[1;32mc:\\Users\\jtrnka\\Documents\\GitHub\\Face-Landmarking\\Face-Landmarking\\cropping.py:115\u001b[0m, in \u001b[0;36mmake_landmark_crops\u001b[1;34m(raw_landmarks, image, crop_size)\u001b[0m\n\u001b[0;32m    112\u001b[0m \u001b[39mexcept\u001b[39;00m:\n\u001b[0;32m    113\u001b[0m     \u001b[39mprint\u001b[39m(raw_landmarks, image\u001b[39m.\u001b[39mshape, crop_size)\n\u001b[1;32m--> 115\u001b[0m \u001b[39mreturn\u001b[39;00m multicrop\n",
      "\u001b[1;31mUnboundLocalError\u001b[0m: cannot access local variable 'multicrop' where it is not associated with a value"
     ]
    }
   ],
   "source": [
    "from cropping import make_landmark_crops\n",
    "#image = torch.from_numpy(edges).unsqueeze(-1)\n",
    "multicrop = make_landmark_crops(y.reshape(1,-1), image, 30)\n",
    "num_landmark = 0\n"
   ]
  },
  {
   "cell_type": "code",
   "execution_count": null,
   "metadata": {},
   "outputs": [
    {
     "data": {
      "image/png": "[encoded data removed]",
      "text/plain": [
       "<Figure size 640x480 with 1 Axes>"
      ]
     },
     "metadata": {},
     "output_type": "display_data"
    },
    {
     "data": {
      "image/png": "[encoded data removed]",
      "text/plain": [
       "<Figure size 640x480 with 2 Axes>"
      ]
     },
     "metadata": {},
     "output_type": "display_data"
    },
    {
     "data": {
      "image/png": "[encoded data removed]",
      "text/plain": [
       "<Figure size 640x480 with 2 Axes>"
      ]
     },
     "metadata": {},
     "output_type": "display_data"
    }
   ],
   "source": [
    "#num_landmark=0\n",
    "multicrop = avg_multicrop\n",
    "channels = int(multicrop.shape[0]/72)\n",
    "num_landmark+=1\n",
    "\n",
    "landmarks = (int(y[num_landmark,0] * image.shape[1]), int(y[num_landmark,1] * image.shape[0]))\n",
    "\n",
    "subimage = image[landmarks[1]-25 : landmarks[1]+25, landmarks[0]-25:landmarks[0]+25].astype(np.uint8)\n",
    "landmark_pattern = multicrop[channels*num_landmark:channels*(num_landmark+1)].permute(1,2,0).squeeze().numpy().astype(np.uint8)\n",
    "\n",
    "plt.imshow(landmark_pattern)\n",
    "plt.show()\n",
    "w, h = landmark_pattern.shape[1], landmark_pattern.shape[0]\n",
    "\n",
    "methods = ['cv2.TM_CCORR',\n",
    "            'cv2.TM_CCORR_NORMED']\n",
    "for meth in methods:\n",
    "    img = subimage.copy()\n",
    "    method = eval(meth)\n",
    "    # Apply template Matching\n",
    "    template = landmark_pattern\n",
    "    res = cv2.matchTemplate(img,template,method)\n",
    "    min_val, max_val, min_loc, max_loc = cv2.minMaxLoc(res)\n",
    "    # If the method is TM_SQDIFF or TM_SQDIFF_NORMED, take minimum\n",
    "    if method in [cv2.TM_SQDIFF, cv2.TM_SQDIFF_NORMED]:\n",
    "        top_left = min_loc\n",
    "    else:\n",
    "        top_left = max_loc\n",
    "    bottom_right = (top_left[0] + w, top_left[1] + h)\n",
    "    cv2.rectangle(img,top_left, bottom_right, 255, 2)\n",
    "    plt.subplot(121),plt.imshow(res,cmap = 'gray')\n",
    "    plt.title('Matching Result'), plt.xticks([]), plt.yticks([])\n",
    "    plt.subplot(122),plt.imshow(img,cmap = 'gray')\n",
    "    plt.title('Detected Point'), plt.xticks([]), plt.yticks([])\n",
    "    plt.suptitle(meth)\n",
    "    plt.show()"
   ]
  },
  {
   "cell_type": "code",
   "execution_count": null,
   "metadata": {},
   "outputs": [
    {
     "data": {
      "text/plain": [
       "(21, 21)"
      ]
     },
     "execution_count": 29,
     "metadata": {},
     "output_type": "execute_result"
    }
   ],
   "source": [
    "res.shape"
   ]
  },
  {
   "cell_type": "code",
   "execution_count": null,
   "metadata": {},
   "outputs": [],
   "source": [
    "\n",
    "def template_matching(image, landmarks, avg_template, crop_size = 50, template_method = None):\n",
    "    method = eval(template_method)\n",
    "    multicrop = make_landmark_crops(landmarks.reshape(1,-1), image, crop_size)\n",
    "    crops = torch.split(multicrop, split_size_or_sections=1, dim=0)\n",
    "    templates = torch.split(avg_template, split_size_or_sections=1, dim=0)\n",
    "    matches = np.empty([1,0])\n",
    "\n",
    "    for crop, template in zip(crops, templates):\n",
    "        match = cv2.matchTemplate(crop, template, method)\n",
    "        matches = np.concatenate([matches, match.reshape(1,-1)], axis= 1)\n",
    "        \n",
    "    return torch.from_numpy(matches).to(DEVICE)"
   ]
  },
  {
   "cell_type": "code",
   "execution_count": null,
   "metadata": {},
   "outputs": [
    {
     "data": {
      "text/plain": [
       "array([], shape=(1, 0), dtype=float64)"
      ]
     },
     "execution_count": 56,
     "metadata": {},
     "output_type": "execute_result"
    }
   ],
   "source": [
    "matching = np.empty([1,0])\n",
    "matching "
   ]
  },
  {
   "cell_type": "code",
   "execution_count": null,
   "metadata": {},
   "outputs": [
    {
     "data": {
      "text/plain": [
       "(1, 2205)"
      ]
     },
     "execution_count": 61,
     "metadata": {},
     "output_type": "execute_result"
    }
   ],
   "source": [
    "matching = np.concatenate([matching, res.reshape(1,-1)], axis= 1)\n",
    "matching.shape"
   ]
  },
  {
   "cell_type": "code",
   "execution_count": null,
   "metadata": {},
   "outputs": [
    {
     "data": {
      "text/plain": [
       "(1, 50, 50)"
      ]
     },
     "execution_count": 6,
     "metadata": {},
     "output_type": "execute_result"
    }
   ],
   "source": [
    "import numpy as np\n",
    "a = np.random.randn(72,50,50)\n",
    "np.split(a, indices_or_sections=a.shape[-3], axis = 0)[0].shape"
   ]
  },
  {
   "cell_type": "code",
   "execution_count": null,
   "metadata": {},
   "outputs": [
    {
     "data": {
      "text/plain": [
       "(50, 50)"
      ]
     },
     "execution_count": 10,
     "metadata": {},
     "output_type": "execute_result"
    }
   ],
   "source": [
    "a = np.random.randn(1,50,50)\n",
    "a.squeeze().shape"
   ]
  },
  {
   "cell_type": "code",
   "execution_count": null,
   "metadata": {},
   "outputs": [
    {
     "data": {
      "text/plain": [
       "array([[[ 5.65946858e-03,  2.45189645e-03,  7.29740426e-03, ...,\n",
       "          6.10436344e-03,  1.92203460e-03,  3.86222723e-03],\n",
       "        [ 4.96989841e-03,  1.62462688e-03, -2.36896074e-03, ...,\n",
       "         -1.36104157e-03,  4.31562049e-04,  1.33176842e-03],\n",
       "        [-2.46885923e-03, -4.18366181e-03,  3.06395765e-03, ...,\n",
       "          1.16829861e-03, -3.87753975e-04,  5.35964640e-04],\n",
       "        ...,\n",
       "        [-2.90575505e-03, -3.54442885e-03, -7.39694657e-03, ...,\n",
       "         -1.77515915e-03, -2.16126390e-03,  9.07595725e-05],\n",
       "        [ 6.92978039e-03,  9.00776874e-04, -3.08878657e-03, ...,\n",
       "          1.96419018e-03,  3.22857210e-03,  5.17854514e-03],\n",
       "        [-4.68027773e-03, -4.00276969e-03, -3.35352690e-03, ...,\n",
       "          2.54522072e-04,  8.86141244e-04, -2.13434246e-03]]])"
      ]
     },
     "execution_count": 11,
     "metadata": {},
     "output_type": "execute_result"
    }
   ],
   "source": [
    "a/255"
   ]
  },
  {
   "cell_type": "code",
   "execution_count": null,
   "metadata": {},
   "outputs": [],
   "source": [
    "from time import time\n",
    "import numpy as np\n",
    "import torch\n",
    "import torch.nn as nn\n",
    "import torch.nn.functional as F\n",
    "from torch.utils.data import DataLoader\n",
    "from sklearn.metrics.pairwise import euclidean_distances\n",
    "import cv2\n",
    "\n",
    "from landmarks_utils import *\n",
    "from cropping import *\n",
    "from config import *\n",
    "from face_landmarking_model import *\n",
    "from face_dataset import *\n",
    "from training import create_projection_mask, create_template_mask\n",
    "\n",
    "num_parent_landmarks = 5 \n",
    "projectors=1\n",
    "rotate=True\n",
    "lr_projection=0.01\n",
    "lr_cnn=0.01\n",
    "lr_ffn=0.01\n",
    "hidden_head_index=2\n",
    "ffn_bias=False\n",
    "template_size=30\n",
    "    \n",
    "projection_mask = create_projection_mask(num_parent_landamrks=num_parent_landmarks)\n",
    "template_mask = create_template_mask(template_size)    \n",
    "\n",
    "\n",
    "model = FaceLandmarking(projection_mask, template_mask, projectors=projectors, hidden_head_index=hidden_head_index, ffn_bias=ffn_bias).to(DEVICE)\n",
    "preparation_dataset = FaceDataset(model=model, rotate=rotate, subgroups=best_groups[:15])\n",
    "avg_template = get_avg_template(preparation_dataset, template_size)\n",
    "main_dataset = FaceDataset(model, rotate=rotate, avg_template=avg_template)"
   ]
  },
  {
   "cell_type": "code",
   "execution_count": null,
   "metadata": {},
   "outputs": [
    {
     "name": "stdout",
     "output_type": "stream",
     "text": [
      "tensor([207])\n"
     ]
    }
   ],
   "source": [
    "main_dataset.pretraining = False\n",
    "idx = torch.randint(main_dataset.__len__(),(1,))\n",
    "print(idx)\n",
    "#idx = 165\n",
    "\n",
    "batch = main_dataset.__getitem__(idx)\n",
    "inputs, targets, template= batch"
   ]
  },
  {
   "cell_type": "code",
   "execution_count": null,
   "metadata": {},
   "outputs": [
    {
     "data": {
      "text/plain": [
       "torch.Size([72, 441])"
      ]
     },
     "execution_count": 39,
     "metadata": {},
     "output_type": "execute_result"
    }
   ],
   "source": [
    "templates = template.reshape(72,-1)\n",
    "templates.shape"
   ]
  },
  {
   "cell_type": "code",
   "execution_count": null,
   "metadata": {},
   "outputs": [
    {
     "data": {
      "text/plain": [
       "72"
      ]
     },
     "execution_count": 28,
     "metadata": {},
     "output_type": "execute_result"
    }
   ],
   "source": [
    "templates = torch.split(template, split_size_or_sections=441, dim = 0)\n",
    "len(templates)"
   ]
  },
  {
   "cell_type": "code",
   "execution_count": null,
   "metadata": {},
   "outputs": [
    {
     "data": {
      "text/plain": [
       "<matplotlib.image.AxesImage at 0x1e747e60f90>"
      ]
     },
     "execution_count": 42,
     "metadata": {},
     "output_type": "execute_result"
    },
    {
     "data": {
      "image/png": "[encoded data removed]",
      "text/plain": [
       "<Figure size 640x480 with 1 Axes>"
      ]
     },
     "metadata": {},
     "output_type": "display_data"
    }
   ],
   "source": [
    "plt.imshow(templates[20,:].reshape(21,21))"
   ]
  },
  {
   "cell_type": "code",
   "execution_count": null,
   "metadata": {},
   "outputs": [],
   "source": []
  }
 ],
 "metadata": {
  "kernelspec": {
   "display_name": "face_env",
   "language": "python",
   "name": "python3"
  },
  "language_info": {
   "codemirror_mode": {
    "name": "ipython",
    "version": 3
   },
   "file_extension": ".py",
   "mimetype": "text/x-python",
   "name": "python",
   "nbconvert_exporter": "python",
   "pygments_lexer": "ipython3",
   "version": "3.11.3"
  }
 },
 "nbformat": 4,
 "nbformat_minor": 2
}
