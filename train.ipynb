{
 "cells": [
  {
   "cell_type": "code",
   "execution_count": 1,
   "metadata": {
    "id": "GYPIqj_swD2X"
   },
   "outputs": [],
   "source": [
    "import cv2\n",
    "import mediapipe as mp\n",
    "import urllib.request as urlreq\n",
    "import os\n",
    "import numpy as np\n",
    "import matplotlib.pyplot as plt\n",
    "from matplotlib.patches import Circle, Ellipse, Rectangle\n",
    "import torch\n",
    "import torch.nn as nn\n",
    "import torch.nn.functional as F\n",
    "from torch.utils.data import Dataset, DataLoader\n",
    "from tqdm import tqdm\n",
    "from glob import glob\n",
    "import pandas as pd\n",
    "\n",
    "#from rembg import remove\n",
    "\n",
    "from config import *\n",
    "from cropping import *\n",
    "from landmarks_utils import *\n",
    "from preprocessing import *\n",
    "from face_landmarking_model import *\n",
    "from training import *\n",
    "from face_dataset import FaceDataset, EnsembleSampler\n",
    "import itertools"
   ]
  },
  {
   "cell_type": "code",
   "execution_count": 2,
   "metadata": {},
   "outputs": [],
   "source": [
    "# x_inp, y_inp, path_list, angles = prepare_training_landmarks()"
   ]
  },
  {
   "cell_type": "code",
   "execution_count": 3,
   "metadata": {},
   "outputs": [],
   "source": [
    "# save_preprocessed_data(x_inp, y_inp, path_list, angles)"
   ]
  },
  {
   "cell_type": "code",
   "execution_count": 4,
   "metadata": {},
   "outputs": [],
   "source": [
    "# Prepare best groups for ensemble projection\n",
    "groups = [os.path.basename(os.path.normpath(path_string)) for path_string in glob(\"./AI_Morphometrics/*/\", recursive = False)]\n",
    "groups_results = pd.read_json('training_results_means.json', orient='index')\n",
    "groups_results.columns = ['result']\n",
    "list_df = pd.read_csv('./preprocessed_data/path_list.txt', names=['text'], header=None)\n",
    "counts = {}\n",
    "for group in groups:\n",
    "    counts[group] = len(list_df[list_df['text'].str.contains(group)])\n",
    "compare = pd.concat([groups_results, pd.DataFrame(counts.items(), columns=['group', 'sample']).set_index('group')], axis = 1)\n",
    "#plt.scatter(x=compare['sample'], y=compare['result'])\n",
    "num_selected_groups = 10\n",
    "best_groups = compare.dropna().sort_values(by=['sample'])[-num_selected_groups:].sort_values(by=['result']).index.to_list()"
   ]
  },
  {
   "cell_type": "code",
   "execution_count": 5,
   "metadata": {
    "colab": {
     "base_uri": "https://localhost:8080/"
    },
    "id": "8lUYCoAzwD2j",
    "outputId": "cd0a56b5-8367-4cd2-c4e0-10e5b5a66ce4",
    "scrolled": true
   },
   "outputs": [
    {
     "name": "stderr",
     "output_type": "stream",
     "text": [
      "  0%|          | 0/2 [00:00<?, ?it/s]"
     ]
    },
    {
     "name": "stdout",
     "output_type": "stream",
     "text": [
      "Pre-training epoch: 149, loss: 0.0005247946828603745..\n",
      " Freezing raw_projection, training CNN_focusing.\n",
      "Post-training epoch: 159, final-loss: 0.009104503318667412, raw-loss: 0.00010404462955193594.\n",
      " Freezing CNN_focusing, training top FFN.\n",
      "Post-training epoch: 169, final-loss: 0.00014898049994371831, raw-loss: 0.00014537213428411633.\r"
     ]
    },
    {
     "name": "stderr",
     "output_type": "stream",
     "text": [
      " 50%|█████     | 1/2 [40:32<40:32, 2432.24s/it]"
     ]
    },
    {
     "name": "stdout",
     "output_type": "stream",
     "text": [
      "Pre-training epoch: 149, loss: 0.0001779945014277473..331413, raw-loss: 0.00010330187797080725.\n",
      " Freezing raw_projection, training CNN_focusing.\n",
      "Post-training epoch: 157, final-loss: 0.017642512917518616, raw-loss: 9.198410407407209e-05..\r"
     ]
    },
    {
     "name": "stderr",
     "output_type": "stream",
     "text": [
      " 50%|█████     | 1/2 [56:30<56:30, 3390.18s/it]\n"
     ]
    },
    {
     "ename": "KeyboardInterrupt",
     "evalue": "",
     "output_type": "error",
     "traceback": [
      "\u001b[1;31m---------------------------------------------------------------------------\u001b[0m",
      "\u001b[1;31mKeyboardInterrupt\u001b[0m                         Traceback (most recent call last)",
      "\u001b[1;32mc:\\Users\\jtrnka\\Documents\\GitHub\\Face-Landmarking\\Face-Landmarking\\train.ipynb Cell 5\u001b[0m line \u001b[0;36m2\n\u001b[0;32m     <a href='vscode-notebook-cell:/c%3A/Users/jtrnka/Documents/GitHub/Face-Landmarking/Face-Landmarking/train.ipynb#W4sZmlsZQ%3D%3D?line=13'>14</a>\u001b[0m combination \u001b[39m=\u001b[39m \u001b[39mf\u001b[39m\u001b[39m\"\u001b[39m\u001b[39m{\u001b[39;00mnum_projectors\u001b[39m}\u001b[39;00m\u001b[39m_\u001b[39m\u001b[39m{\u001b[39;00mrotate\u001b[39m}\u001b[39;00m\u001b[39m_\u001b[39m\u001b[39m{\u001b[39;00mlr\u001b[39m}\u001b[39;00m\u001b[39m_\u001b[39m\u001b[39m{\u001b[39;00mnum_parent_landmarks\u001b[39m}\u001b[39;00m\u001b[39m\"\u001b[39m\n\u001b[0;32m     <a href='vscode-notebook-cell:/c%3A/Users/jtrnka/Documents/GitHub/Face-Landmarking/Face-Landmarking/train.ipynb#W4sZmlsZQ%3D%3D?line=14'>15</a>\u001b[0m model, optimizers, schedulers, datasets, dataloaders \u001b[39m=\u001b[39m prepare_trainers(best_groups, \n\u001b[0;32m     <a href='vscode-notebook-cell:/c%3A/Users/jtrnka/Documents/GitHub/Face-Landmarking/Face-Landmarking/train.ipynb#W4sZmlsZQ%3D%3D?line=15'>16</a>\u001b[0m                                                                         num_parent_landmarks \u001b[39m=\u001b[39m num_parent_landmarks, \n\u001b[0;32m     <a href='vscode-notebook-cell:/c%3A/Users/jtrnka/Documents/GitHub/Face-Landmarking/Face-Landmarking/train.ipynb#W4sZmlsZQ%3D%3D?line=16'>17</a>\u001b[0m                                                                         projectors\u001b[39m=\u001b[39mnum_projectors, \n\u001b[1;32m   (...)\u001b[0m\n\u001b[0;32m     <a href='vscode-notebook-cell:/c%3A/Users/jtrnka/Documents/GitHub/Face-Landmarking/Face-Landmarking/train.ipynb#W4sZmlsZQ%3D%3D?line=20'>21</a>\u001b[0m                                                                         lr_ffn\u001b[39m=\u001b[39mlr\n\u001b[0;32m     <a href='vscode-notebook-cell:/c%3A/Users/jtrnka/Documents/GitHub/Face-Landmarking/Face-Landmarking/train.ipynb#W4sZmlsZQ%3D%3D?line=21'>22</a>\u001b[0m                                                                         )\n\u001b[1;32m---> <a href='vscode-notebook-cell:/c%3A/Users/jtrnka/Documents/GitHub/Face-Landmarking/Face-Landmarking/train.ipynb#W4sZmlsZQ%3D%3D?line=22'>23</a>\u001b[0m cache, main_cache, time_cache \u001b[39m=\u001b[39m train(model,optimizers, \n\u001b[0;32m     <a href='vscode-notebook-cell:/c%3A/Users/jtrnka/Documents/GitHub/Face-Landmarking/Face-Landmarking/train.ipynb#W4sZmlsZQ%3D%3D?line=23'>24</a>\u001b[0m                           schedulers, \n\u001b[0;32m     <a href='vscode-notebook-cell:/c%3A/Users/jtrnka/Documents/GitHub/Face-Landmarking/Face-Landmarking/train.ipynb#W4sZmlsZQ%3D%3D?line=24'>25</a>\u001b[0m                           datasets, \n\u001b[0;32m     <a href='vscode-notebook-cell:/c%3A/Users/jtrnka/Documents/GitHub/Face-Landmarking/Face-Landmarking/train.ipynb#W4sZmlsZQ%3D%3D?line=25'>26</a>\u001b[0m                           dataloaders, \n\u001b[0;32m     <a href='vscode-notebook-cell:/c%3A/Users/jtrnka/Documents/GitHub/Face-Landmarking/Face-Landmarking/train.ipynb#W4sZmlsZQ%3D%3D?line=26'>27</a>\u001b[0m                           pretrain_epochs\u001b[39m=\u001b[39;49m\u001b[39m150\u001b[39;49m,\n\u001b[0;32m     <a href='vscode-notebook-cell:/c%3A/Users/jtrnka/Documents/GitHub/Face-Landmarking/Face-Landmarking/train.ipynb#W4sZmlsZQ%3D%3D?line=27'>28</a>\u001b[0m                           cnn_epochs\u001b[39m=\u001b[39;49m\u001b[39m10\u001b[39;49m,\n\u001b[0;32m     <a href='vscode-notebook-cell:/c%3A/Users/jtrnka/Documents/GitHub/Face-Landmarking/Face-Landmarking/train.ipynb#W4sZmlsZQ%3D%3D?line=28'>29</a>\u001b[0m                           ffn_epochs\u001b[39m=\u001b[39;49m\u001b[39m10\u001b[39;49m\n\u001b[0;32m     <a href='vscode-notebook-cell:/c%3A/Users/jtrnka/Documents/GitHub/Face-Landmarking/Face-Landmarking/train.ipynb#W4sZmlsZQ%3D%3D?line=29'>30</a>\u001b[0m                           )\n\u001b[0;32m     <a href='vscode-notebook-cell:/c%3A/Users/jtrnka/Documents/GitHub/Face-Landmarking/Face-Landmarking/train.ipynb#W4sZmlsZQ%3D%3D?line=31'>32</a>\u001b[0m results[combination] \u001b[39m=\u001b[39m cache\n\u001b[0;32m     <a href='vscode-notebook-cell:/c%3A/Users/jtrnka/Documents/GitHub/Face-Landmarking/Face-Landmarking/train.ipynb#W4sZmlsZQ%3D%3D?line=32'>33</a>\u001b[0m valid_results[combination] \u001b[39m=\u001b[39m main_cache\n",
      "File \u001b[1;32mc:\\Users\\jtrnka\\Documents\\GitHub\\Face-Landmarking\\Face-Landmarking\\training.py:176\u001b[0m, in \u001b[0;36mtrain\u001b[1;34m(model, optimizers, schedulers, datasets, dataloaders, pretraining, pretrain_epochs, cnn_epochs, ffn_epochs, all_train_epochs)\u001b[0m\n\u001b[0;32m    172\u001b[0m         \u001b[39mprint\u001b[39m(\u001b[39mf\u001b[39m\u001b[39m\"\u001b[39m\u001b[39mPre-training epoch: \u001b[39m\u001b[39m{\u001b[39;00mepoch\u001b[39m}\u001b[39;00m\u001b[39m, loss: \u001b[39m\u001b[39m{\u001b[39;00mtotal_loss\u001b[39m.\u001b[39mitem()\u001b[39m}\u001b[39;00m\u001b[39m.\u001b[39m\u001b[39m\"\u001b[39m, end\u001b[39m=\u001b[39m\u001b[39m\"\u001b[39m\u001b[39m\\r\u001b[39;00m\u001b[39m\"\u001b[39m)\n\u001b[0;32m    175\u001b[0m \u001b[39melse\u001b[39;00m:\n\u001b[1;32m--> 176\u001b[0m     \u001b[39mfor\u001b[39;00m iteration, batch \u001b[39min\u001b[39;00m \u001b[39menumerate\u001b[39m(dataloaders[\u001b[39m\"\u001b[39m\u001b[39mmain\u001b[39m\u001b[39m\"\u001b[39m]):\n\u001b[0;32m    177\u001b[0m         \u001b[39mfor\u001b[39;00m optimizer \u001b[39min\u001b[39;00m actual_optimizers:\n\u001b[0;32m    178\u001b[0m             optimizer\u001b[39m.\u001b[39mzero_grad()\n",
      "File \u001b[1;32mc:\\Users\\jtrnka\\Documents\\GitHub\\Face-Landmarking\\Face-Landmarking\\face_env\\Lib\\site-packages\\torch\\utils\\data\\dataloader.py:633\u001b[0m, in \u001b[0;36m_BaseDataLoaderIter.__next__\u001b[1;34m(self)\u001b[0m\n\u001b[0;32m    630\u001b[0m \u001b[39mif\u001b[39;00m \u001b[39mself\u001b[39m\u001b[39m.\u001b[39m_sampler_iter \u001b[39mis\u001b[39;00m \u001b[39mNone\u001b[39;00m:\n\u001b[0;32m    631\u001b[0m     \u001b[39m# TODO(https://github.com/pytorch/pytorch/issues/76750)\u001b[39;00m\n\u001b[0;32m    632\u001b[0m     \u001b[39mself\u001b[39m\u001b[39m.\u001b[39m_reset()  \u001b[39m# type: ignore[call-arg]\u001b[39;00m\n\u001b[1;32m--> 633\u001b[0m data \u001b[39m=\u001b[39m \u001b[39mself\u001b[39;49m\u001b[39m.\u001b[39;49m_next_data()\n\u001b[0;32m    634\u001b[0m \u001b[39mself\u001b[39m\u001b[39m.\u001b[39m_num_yielded \u001b[39m+\u001b[39m\u001b[39m=\u001b[39m \u001b[39m1\u001b[39m\n\u001b[0;32m    635\u001b[0m \u001b[39mif\u001b[39;00m \u001b[39mself\u001b[39m\u001b[39m.\u001b[39m_dataset_kind \u001b[39m==\u001b[39m _DatasetKind\u001b[39m.\u001b[39mIterable \u001b[39mand\u001b[39;00m \\\n\u001b[0;32m    636\u001b[0m         \u001b[39mself\u001b[39m\u001b[39m.\u001b[39m_IterableDataset_len_called \u001b[39mis\u001b[39;00m \u001b[39mnot\u001b[39;00m \u001b[39mNone\u001b[39;00m \u001b[39mand\u001b[39;00m \\\n\u001b[0;32m    637\u001b[0m         \u001b[39mself\u001b[39m\u001b[39m.\u001b[39m_num_yielded \u001b[39m>\u001b[39m \u001b[39mself\u001b[39m\u001b[39m.\u001b[39m_IterableDataset_len_called:\n",
      "File \u001b[1;32mc:\\Users\\jtrnka\\Documents\\GitHub\\Face-Landmarking\\Face-Landmarking\\face_env\\Lib\\site-packages\\torch\\utils\\data\\dataloader.py:677\u001b[0m, in \u001b[0;36m_SingleProcessDataLoaderIter._next_data\u001b[1;34m(self)\u001b[0m\n\u001b[0;32m    675\u001b[0m \u001b[39mdef\u001b[39;00m \u001b[39m_next_data\u001b[39m(\u001b[39mself\u001b[39m):\n\u001b[0;32m    676\u001b[0m     index \u001b[39m=\u001b[39m \u001b[39mself\u001b[39m\u001b[39m.\u001b[39m_next_index()  \u001b[39m# may raise StopIteration\u001b[39;00m\n\u001b[1;32m--> 677\u001b[0m     data \u001b[39m=\u001b[39m \u001b[39mself\u001b[39;49m\u001b[39m.\u001b[39;49m_dataset_fetcher\u001b[39m.\u001b[39;49mfetch(index)  \u001b[39m# may raise StopIteration\u001b[39;00m\n\u001b[0;32m    678\u001b[0m     \u001b[39mif\u001b[39;00m \u001b[39mself\u001b[39m\u001b[39m.\u001b[39m_pin_memory:\n\u001b[0;32m    679\u001b[0m         data \u001b[39m=\u001b[39m _utils\u001b[39m.\u001b[39mpin_memory\u001b[39m.\u001b[39mpin_memory(data, \u001b[39mself\u001b[39m\u001b[39m.\u001b[39m_pin_memory_device)\n",
      "File \u001b[1;32mc:\\Users\\jtrnka\\Documents\\GitHub\\Face-Landmarking\\Face-Landmarking\\face_env\\Lib\\site-packages\\torch\\utils\\data\\_utils\\fetch.py:51\u001b[0m, in \u001b[0;36m_MapDatasetFetcher.fetch\u001b[1;34m(self, possibly_batched_index)\u001b[0m\n\u001b[0;32m     49\u001b[0m         data \u001b[39m=\u001b[39m \u001b[39mself\u001b[39m\u001b[39m.\u001b[39mdataset\u001b[39m.\u001b[39m__getitems__(possibly_batched_index)\n\u001b[0;32m     50\u001b[0m     \u001b[39melse\u001b[39;00m:\n\u001b[1;32m---> 51\u001b[0m         data \u001b[39m=\u001b[39m [\u001b[39mself\u001b[39;49m\u001b[39m.\u001b[39;49mdataset[idx] \u001b[39mfor\u001b[39;49;00m idx \u001b[39min\u001b[39;49;00m possibly_batched_index]\n\u001b[0;32m     52\u001b[0m \u001b[39melse\u001b[39;00m:\n\u001b[0;32m     53\u001b[0m     data \u001b[39m=\u001b[39m \u001b[39mself\u001b[39m\u001b[39m.\u001b[39mdataset[possibly_batched_index]\n",
      "File \u001b[1;32mc:\\Users\\jtrnka\\Documents\\GitHub\\Face-Landmarking\\Face-Landmarking\\face_env\\Lib\\site-packages\\torch\\utils\\data\\_utils\\fetch.py:51\u001b[0m, in \u001b[0;36m<listcomp>\u001b[1;34m(.0)\u001b[0m\n\u001b[0;32m     49\u001b[0m         data \u001b[39m=\u001b[39m \u001b[39mself\u001b[39m\u001b[39m.\u001b[39mdataset\u001b[39m.\u001b[39m__getitems__(possibly_batched_index)\n\u001b[0;32m     50\u001b[0m     \u001b[39melse\u001b[39;00m:\n\u001b[1;32m---> 51\u001b[0m         data \u001b[39m=\u001b[39m [\u001b[39mself\u001b[39;49m\u001b[39m.\u001b[39;49mdataset[idx] \u001b[39mfor\u001b[39;00m idx \u001b[39min\u001b[39;00m possibly_batched_index]\n\u001b[0;32m     52\u001b[0m \u001b[39melse\u001b[39;00m:\n\u001b[0;32m     53\u001b[0m     data \u001b[39m=\u001b[39m \u001b[39mself\u001b[39m\u001b[39m.\u001b[39mdataset[possibly_batched_index]\n",
      "File \u001b[1;32mc:\\Users\\jtrnka\\Documents\\GitHub\\Face-Landmarking\\Face-Landmarking\\face_dataset.py:89\u001b[0m, in \u001b[0;36mFaceDataset.__getitem__\u001b[1;34m(self, idx)\u001b[0m\n\u001b[0;32m     86\u001b[0m     subimage \u001b[39m=\u001b[39m \u001b[39m0\u001b[39m\n\u001b[0;32m     88\u001b[0m \u001b[39melse\u001b[39;00m:\n\u001b[1;32m---> 89\u001b[0m     image \u001b[39m=\u001b[39m cv2\u001b[39m.\u001b[39;49mimread(img_path)\n\u001b[0;32m     90\u001b[0m     image \u001b[39m=\u001b[39m cv2\u001b[39m.\u001b[39mcvtColor(image, cv2\u001b[39m.\u001b[39mCOLOR_BGR2RGB)\n\u001b[0;32m     92\u001b[0m     \u001b[39m# zde bude muset být standardní poměr stran!! Kvůli batch of images for novou cnn\u001b[39;00m\n",
      "\u001b[1;31mKeyboardInterrupt\u001b[0m: "
     ]
    }
   ],
   "source": [
    "results = {}\n",
    "valid_results = {}\n",
    "cached_models = {}\n",
    "times = {}\n",
    "projectors = [2]\n",
    "rotations = [True]\n",
    "learning_rates = [0.0005, 0.001]\n",
    "num_parents = [5]\n",
    "\n",
    "\n",
    "hyperparameter_combinations = list(itertools.product(projectors, rotations, learning_rates, num_parents))\n",
    "\n",
    "for num_projectors, rotate, lr, num_parent_landmarks in tqdm(hyperparameter_combinations):\n",
    "    combination = f\"{num_projectors}_{rotate}_{lr}_{num_parent_landmarks}\"\n",
    "    model, optimizers, schedulers, datasets, dataloaders = prepare_trainers(best_groups, \n",
    "                                                                            num_parent_landmarks = num_parent_landmarks, \n",
    "                                                                            projectors=num_projectors, \n",
    "                                                                            rotate=rotate, \n",
    "                                                                            lr_projection=0.01,\n",
    "                                                                            lr_cnn=0.08,\n",
    "                                                                            lr_ffn=lr\n",
    "                                                                            )\n",
    "    cache, main_cache, time_cache = train(model,optimizers, \n",
    "                              schedulers, \n",
    "                              datasets, \n",
    "                              dataloaders, \n",
    "                              pretrain_epochs=150,\n",
    "                              cnn_epochs=10,\n",
    "                              ffn_epochs=10\n",
    "                              )\n",
    "    \n",
    "    results[combination] = cache\n",
    "    valid_results[combination] = main_cache\n",
    "    cached_models[combination] = model\n",
    "    times[combination] = time_cache\n",
    "            "
   ]
  },
  {
   "cell_type": "code",
   "execution_count": 12,
   "metadata": {},
   "outputs": [
    {
     "data": {
      "application/vnd.plotly.v1+json": {
       "config": {
        "plotlyServerURL": "https://plot.ly"
       },
       "data": [
        {
         "hovertext": "2_True_0.01_5",
         "mode": "lines",
         "name": "2_True_0.01_5",
         "type": "scatter",
         "x": [
          50,
          51,
          52,
          53,
          54,
          55,
          56,
          57,
          58,
          59,
          60,
          61,
          62,
          63,
          64,
          65,
          66,
          67,
          68,
          69,
          70,
          71,
          72,
          73,
          74,
          75,
          76,
          77,
          78,
          79,
          80,
          81,
          82,
          83,
          84,
          85,
          86,
          87,
          88,
          89,
          90,
          91,
          92,
          93,
          94,
          95,
          96,
          97,
          98,
          99,
          100,
          101,
          102,
          103,
          104,
          105,
          106,
          107,
          108,
          109,
          110,
          111,
          112,
          113,
          114,
          115,
          116,
          117,
          118,
          119,
          120,
          121,
          122,
          123,
          124,
          125,
          126,
          127,
          128,
          129,
          130,
          131,
          132,
          133,
          134,
          135,
          136,
          137,
          138,
          139,
          140,
          141,
          142,
          143,
          144,
          145,
          146,
          147,
          148,
          149
         ],
         "y": [
          0.0006625370006076992,
          0.0006424472667276859,
          0.0005907401209697127,
          0.0005784266395494342,
          0.0005978584522381425,
          0.0005126027390360832,
          0.0005244839703664184,
          0.00048661328037269413,
          0.00046938072773627937,
          0.0004117312200833112,
          0.000369305198546499,
          0.00033839934621937573,
          0.000339824880938977,
          0.00031485623912885785,
          0.0002870048047043383,
          0.0002629681839607656,
          0.00031310698250308633,
          0.00025995788746513426,
          0.00025221420219168067,
          0.00020666902128141373,
          0.00021010165801271796,
          0.0002170950174331665,
          0.00020275803399272263,
          0.00020158287952654064,
          0.00024848178145475686,
          0.0002057971723843366,
          0.00018674772582016885,
          0.00018647866090759635,
          0.0001539908116683364,
          0.00014172308146953583,
          0.00014248135266825557,
          0.00020452713943086565,
          0.0001256430259672925,
          0.00013282628788147122,
          0.0001269229978788644,
          0.00014662329340353608,
          0.0001516904158052057,
          0.00012645788956433535,
          0.00014468106382992119,
          0.0001653214858379215,
          0.00017293283599428833,
          0.00012092994438717142,
          0.00017503328854218125,
          0.00012416111712809652,
          0.00017223514441866428,
          0.00021308587747626007,
          0.00015490784426219761,
          0.00015919544966891408,
          0.00018332024046685547,
          0.00017002812819555402,
          0.0001355238928226754,
          0.00019676236843224615,
          0.00013293120719026774,
          0.00022556193289346993,
          0.00011720324982888997,
          0.00020557412062771618,
          0.00011336438910802826,
          0.00010558058420429006,
          0.00012029995559714735,
          0.00011495222861412913,
          0.00016262097051367164,
          0.00014676015416625887,
          0.00013469826080836356,
          0.00023572403006255627,
          0.00012196636816952378,
          0.00014303546049632132,
          0.00011283183994237334,
          0.0001449527044314891,
          0.00011274986900389194,
          0.00010723065497586504,
          0.0001698547857813537,
          0.00015358871314674616,
          0.00014715186262037605,
          0.0001309479121118784,
          0.00013755381223745644,
          0.00010666376329027116,
          0.00011723247007466853,
          0.00013889436377212405,
          0.00011899035598617047,
          0.00010780030424939469,
          0.00021038853446952999,
          0.0001504345564171672,
          0.00012499716831371188,
          0.00010419461614219472,
          0.00017197889974340796,
          0.00013171590398997068,
          0.0001452332508051768,
          0.00021941405429970473,
          0.00010487480903975666,
          0.0001780784223228693,
          0.0001102502501453273,
          0.00010616303188726306,
          0.00016602003597654402,
          0.00013240420958027244,
          0.00012928363867104053,
          0.00011533357610460371,
          0.00013384103658609092,
          0.0001318713475484401,
          0.00011403198004700243,
          0.0001252515648957342
         ]
        },
        {
         "hovertext": "2_True_0.05_5",
         "mode": "lines",
         "name": "2_True_0.05_5",
         "type": "scatter",
         "x": [
          50,
          51,
          52,
          53,
          54,
          55,
          56,
          57,
          58,
          59,
          60,
          61,
          62,
          63,
          64,
          65,
          66,
          67,
          68,
          69,
          70,
          71,
          72,
          73,
          74,
          75,
          76,
          77,
          78,
          79,
          80,
          81,
          82,
          83,
          84,
          85,
          86,
          87,
          88,
          89,
          90,
          91,
          92,
          93,
          94,
          95,
          96,
          97,
          98,
          99,
          100,
          101,
          102,
          103,
          104,
          105,
          106,
          107,
          108,
          109,
          110,
          111,
          112,
          113,
          114,
          115,
          116,
          117,
          118,
          119,
          120,
          121,
          122,
          123,
          124,
          125,
          126,
          127,
          128,
          129,
          130,
          131,
          132,
          133,
          134,
          135,
          136,
          137,
          138,
          139,
          140,
          141,
          142,
          143,
          144,
          145,
          146,
          147,
          148,
          149
         ],
         "y": [
          0.0006253664614632726,
          0.0006560927140526474,
          0.0005572206573560834,
          0.0005804679822176695,
          0.0005558108096010983,
          0.000555453822016716,
          0.0004938652855344117,
          0.0004706833278760314,
          0.0004194759239908308,
          0.00037052141851745546,
          0.00035451073199510574,
          0.00047106927377171814,
          0.000359834375558421,
          0.00030133750988170505,
          0.000280804350040853,
          0.00025902126799337566,
          0.0003140578046441078,
          0.0002747965045273304,
          0.00027422967832535505,
          0.00027623953064903617,
          0.0002389101282460615,
          0.00027592130936682224,
          0.0002621702733449638,
          0.00028893660055473447,
          0.00022645879653282464,
          0.00021675770403817296,
          0.00023260213492903858,
          0.00014930026372894645,
          0.0002773583400994539,
          0.00022809956863056868,
          0.00021957707940600812,
          0.0001327003410551697,
          0.00024891586508601904,
          0.00014643458416685462,
          0.0002677973243407905,
          0.0002098287659464404,
          0.00020602303266059607,
          0.00021862816356588155,
          0.00011794275633292273,
          0.00012156723096268252,
          0.00013690849300473928,
          0.00012280725059099495,
          0.00011721407645381987,
          0.00016031450650189072,
          0.00016160812810994685,
          0.0001726898772176355,
          0.00012387165043037385,
          0.00015564219211228192,
          0.0001934360188897699,
          0.0002008979208767414,
          0.00022494920995086432,
          0.00017405598191544414,
          0.00023976006195880473,
          0.00012784983846358955,
          0.00019601633539423347,
          0.00020678446162492037,
          0.00012100456660846248,
          0.00017031091556418687,
          0.00015817041276022792,
          0.00011428276775404811,
          0.00016615806089248508,
          0.00012700899969786406,
          0.00012312991020735353,
          0.00019285318558104336,
          0.00013487681280821562,
          0.0001136400387622416,
          0.00011190718214493245,
          0.00025233704946003854,
          0.0002071355120278895,
          0.00011227162030991167,
          0.00010438504978083074,
          0.00010457994358148426,
          0.00010006607044488192,
          0.00016464116924908012,
          0.00010320608271285892,
          0.0001799059973563999,
          0.00010796145215863362,
          0.0001094690669560805,
          0.00010539552749833092,
          0.0002309074334334582,
          0.00010508554987609386,
          0.00014997285325080156,
          0.00015984964556992054,
          0.0001909211277961731,
          0.00012273997708689421,
          0.00015199265908449888,
          0.00010646336158970371,
          0.00013415429566521198,
          0.0001104809925891459,
          0.00010465910600032657,
          0.00009932878310792148,
          0.0002151366788893938,
          0.00021885198657400906,
          0.00017711205873638391,
          0.00024876021780073643,
          0.0002384559775236994,
          0.00011742620699806139,
          0.0002038594102486968,
          0.00016263281577266753,
          0.00015258874918799847
         ]
        },
        {
         "hovertext": "2_True_0.005_5",
         "mode": "lines",
         "name": "2_True_0.005_5",
         "type": "scatter",
         "x": [
          50,
          51,
          52,
          53,
          54,
          55,
          56,
          57,
          58,
          59,
          60,
          61,
          62,
          63,
          64,
          65,
          66,
          67,
          68,
          69,
          70,
          71,
          72,
          73,
          74,
          75,
          76,
          77,
          78,
          79,
          80,
          81,
          82,
          83,
          84,
          85,
          86,
          87,
          88,
          89,
          90,
          91,
          92,
          93,
          94,
          95,
          96,
          97,
          98,
          99,
          100,
          101,
          102,
          103,
          104,
          105,
          106,
          107,
          108,
          109,
          110,
          111,
          112,
          113,
          114,
          115,
          116,
          117,
          118,
          119,
          120,
          121,
          122,
          123,
          124,
          125,
          126,
          127,
          128,
          129,
          130,
          131,
          132,
          133,
          134,
          135,
          136,
          137,
          138,
          139,
          140,
          141,
          142,
          143,
          144,
          145,
          146,
          147,
          148,
          149
         ],
         "y": [
          0.0006892289966344833,
          0.0006269385339692235,
          0.0006577824242413044,
          0.0005451992619782686,
          0.0005331001011654735,
          0.0005109853809699416,
          0.0004737343406304717,
          0.0005362771917134523,
          0.0004789027734659612,
          0.00037361666909419,
          0.0004159125383011997,
          0.00033269234700128436,
          0.0004285067552700639,
          0.0003922322648577392,
          0.0004052533768117428,
          0.00027861236594617367,
          0.00024227581161540002,
          0.0003761142725124955,
          0.0003920887247659266,
          0.0003034732071682811,
          0.00018362305127084255,
          0.0003826328320428729,
          0.0002695973089430481,
          0.00017805719107855111,
          0.0003878630814142525,
          0.0002420271630398929,
          0.0004801000759471208,
          0.00023866179981268942,
          0.0002958184923045337,
          0.00014610950893256813,
          0.00012934257392771542,
          0.0001313665707129985,
          0.0004116098571103066,
          0.00028166454285383224,
          0.00023193829110823572,
          0.00022934842854738235,
          0.0003341130504850298,
          0.00029198775882832706,
          0.0005554447998292744,
          0.0003255792544223368,
          0.0002230516984127462,
          0.00024342081451322883,
          0.00029791612178087234,
          0.00012171818525530398,
          0.00012191062705824152,
          0.00020884894183836877,
          0.0002778857306111604,
          0.00011724955402314663,
          0.00011174146493431181,
          0.0005500749684870243,
          0.00011153465311508626,
          0.00020662150927819312,
          0.00011275363794993609,
          0.0003198526392225176,
          0.00025527499383315444,
          0.0003692768805194646,
          0.00020152867364231497,
          0.00019985460676252842,
          0.00019819996668957174,
          0.00023680752201471478,
          0.00040522997733205557,
          0.0005806702538393438,
          0.00028868543449789286,
          0.00011526350863277912,
          0.00010832878615474328,
          0.0001236099051311612,
          0.00020113770733587444,
          0.00035403016954660416,
          0.0002689922403078526,
          0.00028595729963853955,
          0.00040813960367813706,
          0.0003059435111936182,
          0.00011362843360984698,
          0.0006022334564477205,
          0.00024245804524980485,
          0.00023692713875789195,
          0.00031690316973254085,
          0.000233846963965334,
          0.00019585914560593665,
          0.0001180805338663049,
          0.0001913872838485986,
          0.00022788908972870559,
          0.00011603609891608357,
          0.0003957927692681551,
          0.00011058467498514801,
          0.0003293204354122281,
          0.00031877655419521034,
          0.00020035274792462587,
          0.00011064205318689346,
          0.0003923558397218585,
          0.00010513806773815304,
          0.00022860922035761178,
          0.00020282970217522234,
          0.0001023158329189755,
          0.0002061948471236974,
          0.00023861932277213782,
          0.0002022007101913914,
          0.00039698442560620606,
          0.0001186424124171026,
          0.0001227318134624511
         ]
        },
        {
         "hovertext": "2_True_0.001_5",
         "mode": "lines",
         "name": "2_True_0.001_5",
         "type": "scatter",
         "x": [
          50,
          51,
          52,
          53,
          54,
          55,
          56,
          57,
          58,
          59,
          60,
          61,
          62,
          63,
          64,
          65,
          66,
          67,
          68,
          69,
          70,
          71,
          72,
          73,
          74,
          75,
          76,
          77,
          78,
          79,
          80,
          81,
          82,
          83,
          84,
          85,
          86,
          87,
          88,
          89,
          90,
          91,
          92,
          93,
          94,
          95,
          96,
          97,
          98,
          99,
          100,
          101,
          102,
          103,
          104,
          105,
          106,
          107,
          108,
          109,
          110,
          111,
          112,
          113,
          114,
          115,
          116,
          117,
          118,
          119,
          120,
          121,
          122,
          123,
          124,
          125,
          126,
          127,
          128,
          129,
          130,
          131,
          132,
          133,
          134,
          135,
          136,
          137,
          138,
          139,
          140,
          141,
          142,
          143,
          144,
          145,
          146,
          147,
          148,
          149
         ],
         "y": [
          0.0009128429228439927,
          0.0007875235169194639,
          0.0009169821860268712,
          0.0006026002811267972,
          0.0005617070128209889,
          0.0005089316982775927,
          0.0006086165667511523,
          0.0004566693096421659,
          0.0005087212775833905,
          0.0005210110684856772,
          0.0005278584430925548,
          0.0003461895394138992,
          0.0003508346853777766,
          0.000528803386259824,
          0.0004871831042692065,
          0.0003737421939149499,
          0.00037723840796388686,
          0.000250211451202631,
          0.0002333930169697851,
          0.00033649959368631244,
          0.0003285028215032071,
          0.0001865088997874409,
          0.00040602550143375993,
          0.00018630127306096256,
          0.0001725165784591809,
          0.0002727434039115906,
          0.00027024009614251554,
          0.000385554158128798,
          0.00016540856449864805,
          0.0004779059090651572,
          0.0002331770956516266,
          0.0002482720301486552,
          0.00013197690714150667,
          0.0001316847774432972,
          0.00013890366244595498,
          0.00012614105071406811,
          0.00011796662874985486,
          0.00011469631863292307,
          0.00027502424200065434,
          0.0001166067086160183,
          0.0002349113638047129,
          0.0002492203493602574,
          0.000203415984287858,
          0.00046675867633894086,
          0.0003382701543159783,
          0.00031734310323372483,
          0.00024786603171378374,
          0.00012978469021618366,
          0.00020710003445856273,
          0.00012191475252620876,
          0.00023776362650096416,
          0.00024298758944496512,
          0.000136664166348055,
          0.00011848752910736948,
          0.00023513950873166323,
          0.00023894348123576492,
          0.00011804279347416013,
          0.000103620724985376,
          0.00011154805542901158,
          0.00020059362577740103,
          0.0002245409123133868,
          0.00010741662117652595,
          0.00010661807027645409,
          0.00019995747425127774,
          0.00027307181153446436,
          0.00012408840120770037,
          0.00010482416837476194,
          0.0002444664132781327,
          0.00010492846195120364,
          0.00029123417334631085,
          0.00010799658775795251,
          0.00010057132749352604,
          0.00011525312584126368,
          0.00010117516649188474,
          0.00021240804926492274,
          0.000103494428913109,
          0.00011205277405679226,
          0.00023743156634736806,
          0.00010477550677023828,
          0.0003665222611743957,
          0.00012393305951263756,
          0.00023735057038720697,
          0.00012275134213268757,
          0.00020059557573404163,
          0.00023613359371665865,
          0.00010848518286366016,
          0.00010783805191749707,
          0.00010686447785701603,
          0.00032871958683244884,
          0.00010365298658143729,
          0.00012760334357153624,
          0.00038028473500162363,
          0.00011422000534366816,
          0.0002703628852032125,
          0.00011897715739905834,
          0.00009961328032659367,
          0.00010601706890156493,
          0.00020778605539817363,
          0.00020327196398284286,
          0.0002499902620911598
         ]
        }
       ],
       "layout": {
        "template": {
         "data": {
          "bar": [
           {
            "error_x": {
             "color": "#2a3f5f"
            },
            "error_y": {
             "color": "#2a3f5f"
            },
            "marker": {
             "line": {
              "color": "#E5ECF6",
              "width": 0.5
             },
             "pattern": {
              "fillmode": "overlay",
              "size": 10,
              "solidity": 0.2
             }
            },
            "type": "bar"
           }
          ],
          "barpolar": [
           {
            "marker": {
             "line": {
              "color": "#E5ECF6",
              "width": 0.5
             },
             "pattern": {
              "fillmode": "overlay",
              "size": 10,
              "solidity": 0.2
             }
            },
            "type": "barpolar"
           }
          ],
          "carpet": [
           {
            "aaxis": {
             "endlinecolor": "#2a3f5f",
             "gridcolor": "white",
             "linecolor": "white",
             "minorgridcolor": "white",
             "startlinecolor": "#2a3f5f"
            },
            "baxis": {
             "endlinecolor": "#2a3f5f",
             "gridcolor": "white",
             "linecolor": "white",
             "minorgridcolor": "white",
             "startlinecolor": "#2a3f5f"
            },
            "type": "carpet"
           }
          ],
          "choropleth": [
           {
            "colorbar": {
             "outlinewidth": 0,
             "ticks": ""
            },
            "type": "choropleth"
           }
          ],
          "contour": [
           {
            "colorbar": {
             "outlinewidth": 0,
             "ticks": ""
            },
            "colorscale": [
             [
              0,
              "#0d0887"
             ],
             [
              0.1111111111111111,
              "#46039f"
             ],
             [
              0.2222222222222222,
              "#7201a8"
             ],
             [
              0.3333333333333333,
              "#9c179e"
             ],
             [
              0.4444444444444444,
              "#bd3786"
             ],
             [
              0.5555555555555556,
              "#d8576b"
             ],
             [
              0.6666666666666666,
              "#ed7953"
             ],
             [
              0.7777777777777778,
              "#fb9f3a"
             ],
             [
              0.8888888888888888,
              "#fdca26"
             ],
             [
              1,
              "#f0f921"
             ]
            ],
            "type": "contour"
           }
          ],
          "contourcarpet": [
           {
            "colorbar": {
             "outlinewidth": 0,
             "ticks": ""
            },
            "type": "contourcarpet"
           }
          ],
          "heatmap": [
           {
            "colorbar": {
             "outlinewidth": 0,
             "ticks": ""
            },
            "colorscale": [
             [
              0,
              "#0d0887"
             ],
             [
              0.1111111111111111,
              "#46039f"
             ],
             [
              0.2222222222222222,
              "#7201a8"
             ],
             [
              0.3333333333333333,
              "#9c179e"
             ],
             [
              0.4444444444444444,
              "#bd3786"
             ],
             [
              0.5555555555555556,
              "#d8576b"
             ],
             [
              0.6666666666666666,
              "#ed7953"
             ],
             [
              0.7777777777777778,
              "#fb9f3a"
             ],
             [
              0.8888888888888888,
              "#fdca26"
             ],
             [
              1,
              "#f0f921"
             ]
            ],
            "type": "heatmap"
           }
          ],
          "heatmapgl": [
           {
            "colorbar": {
             "outlinewidth": 0,
             "ticks": ""
            },
            "colorscale": [
             [
              0,
              "#0d0887"
             ],
             [
              0.1111111111111111,
              "#46039f"
             ],
             [
              0.2222222222222222,
              "#7201a8"
             ],
             [
              0.3333333333333333,
              "#9c179e"
             ],
             [
              0.4444444444444444,
              "#bd3786"
             ],
             [
              0.5555555555555556,
              "#d8576b"
             ],
             [
              0.6666666666666666,
              "#ed7953"
             ],
             [
              0.7777777777777778,
              "#fb9f3a"
             ],
             [
              0.8888888888888888,
              "#fdca26"
             ],
             [
              1,
              "#f0f921"
             ]
            ],
            "type": "heatmapgl"
           }
          ],
          "histogram": [
           {
            "marker": {
             "pattern": {
              "fillmode": "overlay",
              "size": 10,
              "solidity": 0.2
             }
            },
            "type": "histogram"
           }
          ],
          "histogram2d": [
           {
            "colorbar": {
             "outlinewidth": 0,
             "ticks": ""
            },
            "colorscale": [
             [
              0,
              "#0d0887"
             ],
             [
              0.1111111111111111,
              "#46039f"
             ],
             [
              0.2222222222222222,
              "#7201a8"
             ],
             [
              0.3333333333333333,
              "#9c179e"
             ],
             [
              0.4444444444444444,
              "#bd3786"
             ],
             [
              0.5555555555555556,
              "#d8576b"
             ],
             [
              0.6666666666666666,
              "#ed7953"
             ],
             [
              0.7777777777777778,
              "#fb9f3a"
             ],
             [
              0.8888888888888888,
              "#fdca26"
             ],
             [
              1,
              "#f0f921"
             ]
            ],
            "type": "histogram2d"
           }
          ],
          "histogram2dcontour": [
           {
            "colorbar": {
             "outlinewidth": 0,
             "ticks": ""
            },
            "colorscale": [
             [
              0,
              "#0d0887"
             ],
             [
              0.1111111111111111,
              "#46039f"
             ],
             [
              0.2222222222222222,
              "#7201a8"
             ],
             [
              0.3333333333333333,
              "#9c179e"
             ],
             [
              0.4444444444444444,
              "#bd3786"
             ],
             [
              0.5555555555555556,
              "#d8576b"
             ],
             [
              0.6666666666666666,
              "#ed7953"
             ],
             [
              0.7777777777777778,
              "#fb9f3a"
             ],
             [
              0.8888888888888888,
              "#fdca26"
             ],
             [
              1,
              "#f0f921"
             ]
            ],
            "type": "histogram2dcontour"
           }
          ],
          "mesh3d": [
           {
            "colorbar": {
             "outlinewidth": 0,
             "ticks": ""
            },
            "type": "mesh3d"
           }
          ],
          "parcoords": [
           {
            "line": {
             "colorbar": {
              "outlinewidth": 0,
              "ticks": ""
             }
            },
            "type": "parcoords"
           }
          ],
          "pie": [
           {
            "automargin": true,
            "type": "pie"
           }
          ],
          "scatter": [
           {
            "fillpattern": {
             "fillmode": "overlay",
             "size": 10,
             "solidity": 0.2
            },
            "type": "scatter"
           }
          ],
          "scatter3d": [
           {
            "line": {
             "colorbar": {
              "outlinewidth": 0,
              "ticks": ""
             }
            },
            "marker": {
             "colorbar": {
              "outlinewidth": 0,
              "ticks": ""
             }
            },
            "type": "scatter3d"
           }
          ],
          "scattercarpet": [
           {
            "marker": {
             "colorbar": {
              "outlinewidth": 0,
              "ticks": ""
             }
            },
            "type": "scattercarpet"
           }
          ],
          "scattergeo": [
           {
            "marker": {
             "colorbar": {
              "outlinewidth": 0,
              "ticks": ""
             }
            },
            "type": "scattergeo"
           }
          ],
          "scattergl": [
           {
            "marker": {
             "colorbar": {
              "outlinewidth": 0,
              "ticks": ""
             }
            },
            "type": "scattergl"
           }
          ],
          "scattermapbox": [
           {
            "marker": {
             "colorbar": {
              "outlinewidth": 0,
              "ticks": ""
             }
            },
            "type": "scattermapbox"
           }
          ],
          "scatterpolar": [
           {
            "marker": {
             "colorbar": {
              "outlinewidth": 0,
              "ticks": ""
             }
            },
            "type": "scatterpolar"
           }
          ],
          "scatterpolargl": [
           {
            "marker": {
             "colorbar": {
              "outlinewidth": 0,
              "ticks": ""
             }
            },
            "type": "scatterpolargl"
           }
          ],
          "scatterternary": [
           {
            "marker": {
             "colorbar": {
              "outlinewidth": 0,
              "ticks": ""
             }
            },
            "type": "scatterternary"
           }
          ],
          "surface": [
           {
            "colorbar": {
             "outlinewidth": 0,
             "ticks": ""
            },
            "colorscale": [
             [
              0,
              "#0d0887"
             ],
             [
              0.1111111111111111,
              "#46039f"
             ],
             [
              0.2222222222222222,
              "#7201a8"
             ],
             [
              0.3333333333333333,
              "#9c179e"
             ],
             [
              0.4444444444444444,
              "#bd3786"
             ],
             [
              0.5555555555555556,
              "#d8576b"
             ],
             [
              0.6666666666666666,
              "#ed7953"
             ],
             [
              0.7777777777777778,
              "#fb9f3a"
             ],
             [
              0.8888888888888888,
              "#fdca26"
             ],
             [
              1,
              "#f0f921"
             ]
            ],
            "type": "surface"
           }
          ],
          "table": [
           {
            "cells": {
             "fill": {
              "color": "#EBF0F8"
             },
             "line": {
              "color": "white"
             }
            },
            "header": {
             "fill": {
              "color": "#C8D4E3"
             },
             "line": {
              "color": "white"
             }
            },
            "type": "table"
           }
          ]
         },
         "layout": {
          "annotationdefaults": {
           "arrowcolor": "#2a3f5f",
           "arrowhead": 0,
           "arrowwidth": 1
          },
          "autotypenumbers": "strict",
          "coloraxis": {
           "colorbar": {
            "outlinewidth": 0,
            "ticks": ""
           }
          },
          "colorscale": {
           "diverging": [
            [
             0,
             "#8e0152"
            ],
            [
             0.1,
             "#c51b7d"
            ],
            [
             0.2,
             "#de77ae"
            ],
            [
             0.3,
             "#f1b6da"
            ],
            [
             0.4,
             "#fde0ef"
            ],
            [
             0.5,
             "#f7f7f7"
            ],
            [
             0.6,
             "#e6f5d0"
            ],
            [
             0.7,
             "#b8e186"
            ],
            [
             0.8,
             "#7fbc41"
            ],
            [
             0.9,
             "#4d9221"
            ],
            [
             1,
             "#276419"
            ]
           ],
           "sequential": [
            [
             0,
             "#0d0887"
            ],
            [
             0.1111111111111111,
             "#46039f"
            ],
            [
             0.2222222222222222,
             "#7201a8"
            ],
            [
             0.3333333333333333,
             "#9c179e"
            ],
            [
             0.4444444444444444,
             "#bd3786"
            ],
            [
             0.5555555555555556,
             "#d8576b"
            ],
            [
             0.6666666666666666,
             "#ed7953"
            ],
            [
             0.7777777777777778,
             "#fb9f3a"
            ],
            [
             0.8888888888888888,
             "#fdca26"
            ],
            [
             1,
             "#f0f921"
            ]
           ],
           "sequentialminus": [
            [
             0,
             "#0d0887"
            ],
            [
             0.1111111111111111,
             "#46039f"
            ],
            [
             0.2222222222222222,
             "#7201a8"
            ],
            [
             0.3333333333333333,
             "#9c179e"
            ],
            [
             0.4444444444444444,
             "#bd3786"
            ],
            [
             0.5555555555555556,
             "#d8576b"
            ],
            [
             0.6666666666666666,
             "#ed7953"
            ],
            [
             0.7777777777777778,
             "#fb9f3a"
            ],
            [
             0.8888888888888888,
             "#fdca26"
            ],
            [
             1,
             "#f0f921"
            ]
           ]
          },
          "colorway": [
           "#636efa",
           "#EF553B",
           "#00cc96",
           "#ab63fa",
           "#FFA15A",
           "#19d3f3",
           "#FF6692",
           "#B6E880",
           "#FF97FF",
           "#FECB52"
          ],
          "font": {
           "color": "#2a3f5f"
          },
          "geo": {
           "bgcolor": "white",
           "lakecolor": "white",
           "landcolor": "#E5ECF6",
           "showlakes": true,
           "showland": true,
           "subunitcolor": "white"
          },
          "hoverlabel": {
           "align": "left"
          },
          "hovermode": "closest",
          "mapbox": {
           "style": "light"
          },
          "paper_bgcolor": "white",
          "plot_bgcolor": "#E5ECF6",
          "polar": {
           "angularaxis": {
            "gridcolor": "white",
            "linecolor": "white",
            "ticks": ""
           },
           "bgcolor": "#E5ECF6",
           "radialaxis": {
            "gridcolor": "white",
            "linecolor": "white",
            "ticks": ""
           }
          },
          "scene": {
           "xaxis": {
            "backgroundcolor": "#E5ECF6",
            "gridcolor": "white",
            "gridwidth": 2,
            "linecolor": "white",
            "showbackground": true,
            "ticks": "",
            "zerolinecolor": "white"
           },
           "yaxis": {
            "backgroundcolor": "#E5ECF6",
            "gridcolor": "white",
            "gridwidth": 2,
            "linecolor": "white",
            "showbackground": true,
            "ticks": "",
            "zerolinecolor": "white"
           },
           "zaxis": {
            "backgroundcolor": "#E5ECF6",
            "gridcolor": "white",
            "gridwidth": 2,
            "linecolor": "white",
            "showbackground": true,
            "ticks": "",
            "zerolinecolor": "white"
           }
          },
          "shapedefaults": {
           "line": {
            "color": "#2a3f5f"
           }
          },
          "ternary": {
           "aaxis": {
            "gridcolor": "white",
            "linecolor": "white",
            "ticks": ""
           },
           "baxis": {
            "gridcolor": "white",
            "linecolor": "white",
            "ticks": ""
           },
           "bgcolor": "#E5ECF6",
           "caxis": {
            "gridcolor": "white",
            "linecolor": "white",
            "ticks": ""
           }
          },
          "title": {
           "x": 0.05
          },
          "xaxis": {
           "automargin": true,
           "gridcolor": "white",
           "linecolor": "white",
           "ticks": "",
           "title": {
            "standoff": 15
           },
           "zerolinecolor": "white",
           "zerolinewidth": 2
          },
          "yaxis": {
           "automargin": true,
           "gridcolor": "white",
           "linecolor": "white",
           "ticks": "",
           "title": {
            "standoff": 15
           },
           "zerolinecolor": "white",
           "zerolinewidth": 2
          }
         }
        }
       }
      }
     },
     "metadata": {},
     "output_type": "display_data"
    }
   ],
   "source": [
    "import plotly.graph_objs as go\n",
    "import plotly.express as px\n",
    "\n",
    "fig = go.Figure()\n",
    "\n",
    "for combination, losses in results.items():\n",
    "    scatter = go.Scatter(\n",
    "        x=list(range(len(losses)))[50:],\n",
    "        y=losses[50:],\n",
    "        mode='lines',\n",
    "        name=combination,\n",
    "        hovertext=combination\n",
    "        )\n",
    "    \n",
    "    fig.add_trace(scatter)\n",
    "\n",
    "fig.show()"
   ]
  },
  {
   "cell_type": "code",
   "execution_count": 13,
   "metadata": {},
   "outputs": [
    {
     "data": {
      "application/vnd.plotly.v1+json": {
       "config": {
        "plotlyServerURL": "https://plot.ly"
       },
       "data": [
        {
         "hovertext": "2_True_0.01_5",
         "mode": "lines",
         "name": "2_True_0.01_5",
         "type": "scatter",
         "x": [
          0,
          1,
          2,
          3,
          4,
          5,
          6,
          7,
          8,
          9,
          10,
          11,
          12,
          13,
          14,
          15,
          16,
          17,
          18,
          19,
          20,
          21,
          22,
          23,
          24,
          25,
          26,
          27,
          28,
          29,
          30,
          31,
          32,
          33,
          34,
          35,
          36,
          37,
          38,
          39,
          40,
          41,
          42,
          43,
          44,
          45,
          46,
          47,
          48,
          49,
          50,
          51,
          52,
          53,
          54,
          55,
          56,
          57,
          58,
          59,
          60,
          61,
          62,
          63,
          64,
          65,
          66,
          67,
          68,
          69,
          70,
          71,
          72,
          73,
          74,
          75,
          76,
          77,
          78,
          79,
          80,
          81,
          82,
          83,
          84,
          85,
          86,
          87,
          88,
          89,
          90,
          91,
          92,
          93,
          94,
          95,
          96,
          97,
          98,
          99,
          100,
          101,
          102,
          103,
          104,
          105,
          106,
          107,
          108,
          109,
          110,
          111,
          112,
          113,
          114,
          115,
          116,
          117,
          118,
          119,
          120,
          121,
          122,
          123,
          124,
          125,
          126,
          127,
          128,
          129,
          130,
          131,
          132,
          133,
          134,
          135,
          136,
          137,
          138,
          139,
          140,
          141,
          142,
          143,
          144,
          145,
          146,
          147,
          148,
          149,
          150,
          151,
          152,
          153,
          154,
          155,
          156,
          157,
          158,
          159,
          160,
          161,
          162,
          163,
          164,
          165,
          166,
          167,
          168,
          169,
          170,
          171,
          172,
          173,
          174,
          175,
          176,
          177,
          178,
          179,
          180,
          181,
          182,
          183,
          184,
          185,
          186,
          187,
          188,
          189,
          190,
          191,
          192,
          193,
          194,
          195,
          196,
          197,
          198,
          199,
          200,
          201,
          202,
          203,
          204,
          205,
          206,
          207,
          208,
          209,
          210,
          211,
          212,
          213,
          214,
          215,
          216,
          217,
          218,
          219,
          220,
          221,
          222,
          223,
          224,
          225,
          226,
          227,
          228,
          229,
          230,
          231,
          232,
          233,
          234,
          235,
          236,
          237,
          238,
          239,
          240,
          241,
          242,
          243,
          244,
          245,
          246,
          247,
          248,
          249,
          250,
          251,
          252,
          253,
          254,
          255,
          256,
          257,
          258,
          259,
          260,
          261,
          262,
          263,
          264,
          265,
          266,
          267,
          268,
          269,
          270,
          271,
          272,
          273,
          274,
          275,
          276,
          277,
          278,
          279,
          280,
          281,
          282,
          283,
          284,
          285,
          286,
          287,
          288
         ],
         "y": [
          0.0002985512837767601,
          0.00031367409974336624,
          0.00030424719443544745,
          0.0001996258506551385,
          0.00019504391821101308,
          0.00016260916891042143,
          0.0002011326141655445,
          0.0001989513693843037,
          0.00017684599151834846,
          0.0003318169619888067,
          0.00024301500525325537,
          0.00033054844243451953,
          0.0003428024356253445,
          0.0001931237056851387,
          0.00018667153199203312,
          0.00023682753089815378,
          0.0003208007547073066,
          0.00019135241745971143,
          0.00016279768897220492,
          0.0002544744056649506,
          0.00017475630738772452,
          0.0003377445973455906,
          0.00038663618033751845,
          0.0003256258787587285,
          0.00020000200311187655,
          0.0003106056828983128,
          0.00019960937788709998,
          0.00019905960652977228,
          0.00014357664622366428,
          0.01902017369866371,
          20382390,
          3490951168,
          51844644864,
          289746176,
          31346116,
          116947016,
          439036768,
          4356047,
          1586.4373779296875,
          5978.275390625,
          13458.5234375,
          22893.36328125,
          30957.90234375,
          32405.595703125,
          27866.69921875,
          16377.3623046875,
          8110.9033203125,
          1546.366943359375,
          1328.495361328125,
          9258.83984375,
          9383.298828125,
          3667.886962890625,
          179.46878051757812,
          1909.857666015625,
          5540.958984375,
          6770.84326171875,
          4652.84765625,
          1332.6116943359375,
          350.0736389160156,
          2925.6953125,
          4669.99560546875,
          2744.476318359375,
          481.0820007324219,
          757.7435913085938,
          2389.9287109375,
          2933.0087890625,
          1823.306884765625,
          490.3710632324219,
          544.6767578125,
          1659.069580078125,
          1899.80078125,
          938.1356811523438,
          298.0962219238281,
          673.9390869140625,
          1246.0445556640625,
          1163.416259765625,
          576.3793334960938,
          265.5789489746094,
          560.9096069335938,
          884.1973876953125,
          688.1248168945312,
          301.10614013671875,
          265.93096923828125,
          506.8424987792969,
          594.0442504882812,
          397.14544677734375,
          198.6929931640625,
          246.62965393066406,
          397.99676513671875,
          374.7159118652344,
          212.24322509765625,
          152.83477783203125,
          237.42347717285156,
          290.5983581542969,
          219.56097412109375,
          129.76304626464844,
          141.0931396484375,
          201.7142333984375,
          191.82174682617188,
          123.82723236083984,
          101.52418518066406,
          137.847900390625,
          154.12289428710938,
          118.12716674804688,
          85.8526382446289,
          99.12774658203125,
          121.17916107177734,
          106.47017669677734,
          79.42352294921875,
          80.68765258789062,
          97.45923614501953,
          94.52944946289062,
          76.01042175292969,
          71.64445495605469,
          82.46031951904297,
          84.50386047363281,
          72.94265747070312,
          67.57611846923828,
          74.53246307373047,
          77.49299621582031,
          70.2574462890625,
          65.73389434814453,
          69.97412872314453,
          72.7424545288086,
          68.32308959960938,
          64.82746887207031,
          67.62930297851562,
          69.47818756103516,
          66.61212921142578,
          64.2603530883789,
          65.962158203125,
          67.39705657958984,
          65.28407287597656,
          63.74079895019531,
          64.90251922607422,
          65.72042846679688,
          64.25731658935547,
          63.18553924560547,
          64.07791137695312,
          64.37677764892578,
          63.24673080444336,
          62.6298828125,
          63.223472595214844,
          63.20855712890625,
          62.35102462768555,
          62.00421142578125,
          62.374183654785156,
          62.2546272277832,
          61.53049087524414,
          61.38185501098633,
          61.5867805480957,
          61.29925537109375,
          60.79024124145508,
          60.708518981933594,
          60.80056381225586,
          60.445556640625,
          60.100624084472656,
          60.057525634765625,
          60.00117492675781,
          59.70343780517578,
          59.44935607910156,
          59.423988342285156,
          59.257564544677734,
          58.99141311645508,
          58.86534881591797,
          58.77341079711914,
          58.57984924316406,
          58.346534729003906,
          58.246185302734375,
          58.10579299926758,
          57.9099006652832,
          57.75498962402344,
          57.61672592163086,
          57.50237274169922,
          57.2767333984375,
          57.123653411865234,
          56.996826171875,
          56.86592483520508,
          56.68489456176758,
          56.5711669921875,
          56.40045928955078,
          56.229862213134766,
          56.07194519042969,
          55.96480178833008,
          55.78935623168945,
          55.69190216064453,
          55.501502990722656,
          55.35615539550781,
          55.19074630737305,
          55.043853759765625,
          54.89623260498047,
          54.74978256225586,
          54.61543273925781,
          54.46786117553711,
          54.30730438232422,
          54.15580368041992,
          54.00507736206055,
          53.86518859863281,
          53.720703125,
          53.61354446411133,
          53.45173263549805,
          53.31504440307617,
          53.13831329345703,
          52.98409652709961,
          52.85188674926758,
          52.77482223510742,
          52.555450439453125,
          52.42032241821289,
          52.27897262573242,
          52.130985260009766,
          51.98797607421875,
          51.852542877197266,
          51.723697662353516,
          51.58622360229492,
          51.43213653564453,
          51.28561019897461,
          51.14094543457031,
          51.02972412109375,
          50.866310119628906,
          50.76966857910156,
          50.58700180053711,
          50.468299865722656,
          50.32904052734375,
          50.17076110839844,
          50.08467102050781,
          49.94300079345703,
          49.75791549682617,
          49.63877868652344,
          49.48419189453125,
          49.36800765991211,
          49.2175178527832,
          49.08059310913086,
          48.94633865356445,
          48.80901336669922,
          48.69505310058594,
          48.54730987548828,
          48.41103744506836,
          48.2733154296875,
          48.14264678955078,
          48.00678253173828,
          47.87869644165039,
          47.74784851074219,
          47.61468505859375,
          47.50210189819336,
          47.4058837890625,
          47.22164535522461,
          47.11358642578125,
          46.98361587524414,
          46.832794189453125,
          46.76942443847656,
          46.62294006347656,
          46.44625473022461,
          46.34516525268555,
          46.21149444580078,
          46.08799743652344,
          45.954383850097656,
          45.81205749511719,
          45.68503952026367,
          45.55710983276367,
          45.44797134399414,
          45.30940628051758,
          45.1830940246582,
          45.05687713623047,
          44.97871398925781,
          44.826045989990234,
          44.7104606628418,
          44.5839729309082,
          44.4420051574707,
          44.31761169433594,
          44.19550323486328,
          44.07557678222656,
          43.97705841064453,
          43.8311767578125,
          43.733978271484375,
          43.59040069580078,
          43.4682502746582,
          43.37733459472656,
          43.25151824951172,
          43.11385726928711,
          43.01824188232422,
          42.89659881591797,
          42.756439208984375,
          42.637413024902344,
          42.53877258300781,
          42.42753982543945,
          42.290504455566406,
          42.17152404785156,
          42.080814361572266,
          41.937171936035156
         ]
        },
        {
         "hovertext": "2_True_0.05_5",
         "mode": "lines",
         "name": "2_True_0.05_5",
         "type": "scatter",
         "x": [
          0,
          1,
          2,
          3,
          4,
          5,
          6,
          7,
          8,
          9,
          10,
          11,
          12,
          13,
          14,
          15,
          16,
          17,
          18,
          19,
          20,
          21,
          22,
          23,
          24,
          25,
          26,
          27,
          28,
          29,
          30,
          31,
          32,
          33,
          34,
          35,
          36,
          37,
          38,
          39,
          40,
          41,
          42,
          43,
          44,
          45,
          46,
          47,
          48,
          49,
          50,
          51,
          52,
          53,
          54,
          55,
          56,
          57,
          58,
          59,
          60,
          61,
          62,
          63,
          64,
          65,
          66,
          67,
          68,
          69,
          70,
          71,
          72,
          73,
          74,
          75,
          76,
          77,
          78,
          79,
          80,
          81,
          82,
          83,
          84,
          85,
          86,
          87,
          88,
          89,
          90,
          91,
          92,
          93,
          94,
          95,
          96,
          97,
          98,
          99,
          100,
          101,
          102,
          103,
          104,
          105,
          106,
          107,
          108,
          109,
          110,
          111,
          112,
          113,
          114,
          115,
          116,
          117,
          118,
          119,
          120,
          121,
          122,
          123,
          124,
          125,
          126,
          127,
          128,
          129,
          130,
          131,
          132,
          133,
          134,
          135,
          136,
          137,
          138,
          139,
          140,
          141,
          142,
          143,
          144,
          145,
          146,
          147,
          148,
          149,
          150,
          151,
          152,
          153,
          154,
          155,
          156,
          157,
          158,
          159,
          160,
          161,
          162,
          163,
          164,
          165,
          166,
          167,
          168,
          169,
          170,
          171,
          172,
          173,
          174,
          175,
          176,
          177,
          178,
          179,
          180,
          181,
          182,
          183,
          184,
          185,
          186,
          187,
          188,
          189,
          190,
          191,
          192,
          193,
          194,
          195,
          196,
          197,
          198,
          199,
          200,
          201,
          202,
          203,
          204,
          205,
          206,
          207,
          208,
          209,
          210,
          211,
          212,
          213,
          214,
          215,
          216,
          217,
          218,
          219,
          220,
          221,
          222,
          223,
          224,
          225,
          226,
          227,
          228,
          229,
          230,
          231,
          232,
          233,
          234,
          235,
          236,
          237,
          238,
          239,
          240,
          241,
          242,
          243,
          244,
          245,
          246,
          247,
          248,
          249,
          250,
          251,
          252,
          253,
          254,
          255,
          256,
          257,
          258,
          259,
          260,
          261,
          262,
          263,
          264,
          265,
          266,
          267,
          268,
          269,
          270,
          271,
          272,
          273,
          274,
          275,
          276,
          277,
          278,
          279,
          280,
          281,
          282,
          283,
          284,
          285,
          286,
          287,
          288
         ],
         "y": [
          0.00019715676899068058,
          0.00016050453996285796,
          0.00027792417677119374,
          0.0002143986930605024,
          0.00015932471433188766,
          0.0003071851097047329,
          0.0002672942355275154,
          0.00034235662315040827,
          0.00020513901836238801,
          0.0001610787439858541,
          0.0002978638221975416,
          0.000172944986843504,
          0.0003115439903922379,
          0.00021812506020069122,
          0.00017780539928935468,
          0.00022554080351255834,
          0.0001893833396025002,
          0.00022224741405807436,
          0.00017947480955626816,
          0.0004378340672701597,
          0.00015702072414569557,
          0.0002602259919513017,
          0.0001589574385434389,
          0.00020470638992264867,
          0.0002567286428529769,
          0.00030519653228111565,
          0.00034833146492019296,
          0.00021128251682966948,
          0.00016746055916883051,
          0.01886698603630066,
          8839252992,
          482372780032,
          66345299345408,
          61260775424,
          17103940608,
          3196147990528,
          307290079232,
          1912449269760,
          489668542464,
          52193083392,
          1782671360,
          40902668288,
          663461760,
          22016034,
          81169064,
          80127048,
          69895984,
          42963868,
          11751145,
          946045.4375,
          31802104,
          57795044,
          44862352,
          15649503,
          189307.015625,
          8734698,
          25742040,
          34707140,
          28049378,
          11813930,
          445921.71875,
          5412991.5,
          18547502,
          19674944,
          8506771,
          316784.9375,
          2961875.75,
          9855786,
          11102766,
          4740681.5,
          70115.7734375,
          7043786.5,
          4959162,
          391500.28125,
          776499,
          2623755.5,
          2469955.5,
          816507.0625,
          38518.09765625,
          1003290.875,
          2044833.625,
          1580729.125,
          361182.375,
          100390.1484375,
          855511.3125,
          1319061.875,
          834281,
          136608.84375,
          152519.890625,
          680594.5,
          801193.125,
          349074.5625,
          37089.3671875,
          247973.375,
          528066.375,
          424715.03125,
          114092.9453125,
          62290.0703125,
          272908.6875,
          349727.59375,
          171612.984375,
          37457.4609375,
          124957.0390625,
          238737.84375,
          180056.921875,
          56365.31640625,
          57967.26171875,
          148059.296875,
          153959.078125,
          70495.75,
          39304.76171875,
          92397.40625,
          120582.3828125,
          75319.078125,
          36850.22265625,
          61781.8125,
          91433.1875,
          70147.1953125,
          38416.9296875,
          47567.671875,
          71437.328125,
          63454.640625,
          39526.734375,
          41367.2578125,
          58002.99609375,
          55443.58984375,
          38828.29296875,
          38000.68359375,
          49460.58984375,
          48913.7734375,
          38062.3203125,
          36397.5,
          44253.81640625,
          44772.46484375,
          37068.48046875,
          35799.81640625,
          41260.5703125,
          41046.34375,
          35696.6015625,
          35160.0078125,
          38588.1328125,
          38324.1171875,
          34769.52734375,
          34671.921875,
          37007.796875,
          36259.5234375,
          34055.4453125,
          34316.0390625,
          35451.68359375,
          34814.54296875,
          33378.19921875,
          33814.48828125,
          34465.60546875,
          33689.76953125,
          32823.26953125,
          33246.7890625,
          33526.9296875,
          32989.6328125,
          32421.693359375,
          32830.94921875,
          32799.859375,
          32300.974609375,
          32008.7578125,
          32264.3515625,
          32223.869140625,
          31650.666015625,
          31830.732421875,
          31798.6875,
          31599.970703125,
          31197.591796875,
          31178.900390625,
          31203.8828125,
          30937.75390625,
          30872.03125,
          30852.431640625,
          30771.048828125,
          30462.029296875,
          30468.998046875,
          30303.7890625,
          30279.822265625,
          29984.611328125,
          30024.048828125,
          29842.794921875,
          29679.47265625,
          29695.30078125,
          29474.2734375,
          29790.3125,
          29219.6796875,
          29161.71875,
          29230.37109375,
          28894.591796875,
          28781.5390625,
          28810.779296875,
          28573.3203125,
          28451.109375,
          28358.09765625,
          28250.98828125,
          28116.3125,
          28121.97265625,
          28021.125,
          27856.953125,
          27776.544921875,
          27596.244140625,
          27464.642578125,
          27472.263671875,
          27255.017578125,
          27137.345703125,
          27017.69140625,
          27140.642578125,
          26829.681640625,
          26711.341796875,
          26778.484375,
          26490.337890625,
          26453.42578125,
          26361.97265625,
          26156.880859375,
          26164.21484375,
          25943.400390625,
          25947.0625,
          25726.3515625,
          25726.26171875,
          25511.822265625,
          25404.341796875,
          25289.732421875,
          25176.576171875,
          25079.37109375,
          25093.880859375,
          24857.705078125,
          24849.908203125,
          24755.6328125,
          24531.078125,
          24529.916015625,
          24395.20703125,
          24424.599609375,
          24112.060546875,
          24019.970703125,
          23909.255859375,
          23791.130859375,
          23818.07421875,
          23747.62890625,
          23489.97265625,
          23493.80078125,
          23395.208984375,
          23163.11328125,
          23071.28125,
          22962.947265625,
          22953.703125,
          22753.3671875,
          22753.6484375,
          22544.97265625,
          22560.029296875,
          22434.177734375,
          22227.212890625,
          22122.7734375,
          22032.029296875,
          21916.03515625,
          22041.623046875,
          21802.224609375,
          21614.82421875,
          21628.650390625,
          21408.30078125,
          21386.42578125,
          21208.392578125,
          21108.021484375,
          21004.345703125,
          20900.955078125,
          20799.771484375,
          20917.875,
          20811.845703125,
          20518.919921875,
          20516.7734375,
          20306.119140625,
          20209.29296875,
          20217.923828125,
          20011.80078125,
          20007.916015625,
          19912.1953125,
          19716.72265625,
          19736.666015625,
          19524.87109375,
          19425.37109375,
          19441.318359375,
          19330.779296875,
          19143.857421875,
          19033.771484375,
          19162.544921875,
          18914.2421875,
          18751.21875,
          18657.3515625
         ]
        },
        {
         "hovertext": "2_True_0.005_5",
         "mode": "lines",
         "name": "2_True_0.005_5",
         "type": "scatter",
         "x": [
          0,
          1,
          2,
          3,
          4,
          5,
          6,
          7,
          8,
          9,
          10,
          11,
          12,
          13,
          14,
          15,
          16,
          17,
          18,
          19,
          20,
          21,
          22,
          23,
          24,
          25,
          26,
          27,
          28,
          29,
          30,
          31,
          32,
          33,
          34,
          35,
          36,
          37,
          38,
          39,
          40,
          41,
          42,
          43,
          44,
          45,
          46,
          47,
          48,
          49,
          50,
          51,
          52,
          53,
          54,
          55,
          56,
          57,
          58,
          59,
          60,
          61,
          62,
          63,
          64,
          65,
          66,
          67,
          68,
          69,
          70,
          71,
          72,
          73,
          74,
          75,
          76,
          77,
          78,
          79,
          80,
          81,
          82,
          83,
          84,
          85,
          86,
          87,
          88,
          89,
          90,
          91,
          92,
          93,
          94,
          95,
          96,
          97,
          98,
          99,
          100,
          101,
          102,
          103,
          104,
          105,
          106,
          107,
          108,
          109,
          110,
          111,
          112,
          113,
          114,
          115,
          116,
          117,
          118,
          119,
          120,
          121,
          122,
          123,
          124,
          125,
          126,
          127,
          128,
          129,
          130,
          131,
          132,
          133,
          134,
          135,
          136,
          137,
          138,
          139,
          140,
          141,
          142,
          143,
          144,
          145,
          146,
          147,
          148,
          149,
          150,
          151,
          152,
          153,
          154,
          155,
          156,
          157,
          158,
          159,
          160,
          161,
          162,
          163,
          164,
          165,
          166,
          167,
          168,
          169,
          170,
          171,
          172,
          173,
          174,
          175,
          176,
          177,
          178,
          179,
          180,
          181,
          182,
          183,
          184,
          185,
          186,
          187,
          188,
          189,
          190,
          191,
          192,
          193,
          194,
          195,
          196,
          197,
          198,
          199,
          200,
          201,
          202,
          203,
          204,
          205,
          206,
          207,
          208,
          209,
          210,
          211,
          212,
          213,
          214,
          215,
          216,
          217,
          218,
          219,
          220,
          221,
          222,
          223,
          224,
          225,
          226,
          227,
          228,
          229,
          230,
          231,
          232,
          233,
          234,
          235,
          236,
          237,
          238,
          239,
          240,
          241,
          242,
          243,
          244,
          245,
          246,
          247,
          248,
          249,
          250,
          251,
          252,
          253,
          254,
          255,
          256,
          257,
          258,
          259,
          260,
          261,
          262,
          263,
          264,
          265,
          266,
          267,
          268,
          269,
          270,
          271,
          272,
          273,
          274,
          275,
          276,
          277,
          278,
          279,
          280,
          281,
          282,
          283,
          284,
          285,
          286,
          287,
          288
         ],
         "y": [
          0.0001901813520817086,
          0.00016231826157309115,
          0.0001868766121333465,
          0.000504087598528713,
          0.00014273045235313475,
          0.00028710829792544246,
          0.0002846802235580981,
          0.00029319318127818406,
          0.0001765347260516137,
          0.00032262562308460474,
          0.00018144624482374638,
          0.00030704509117640555,
          0.0002671040128916502,
          0.00018005887977778912,
          0.00031511500128544867,
          0.00016022688942030072,
          0.00014354512677527964,
          0.00017100569675676525,
          0.00017613194359000772,
          0.00015782512491568923,
          0.00030089676147326827,
          0.0005290156113915145,
          0.0005984127055853605,
          0.00020008647697977722,
          0.0002226091455668211,
          0.0002838661312125623,
          0.00016672821948304772,
          0.00021278686472214758,
          0.000344997679349035,
          0.017190728336572647,
          2218733.75,
          80055896,
          771463424,
          3795398,
          59951.30859375,
          936725.875,
          15824.4228515625,
          1554.164306640625,
          133.86767578125,
          313.14788818359375,
          382.5628356933594,
          287.2411804199219,
          267.4071350097656,
          533.3060302734375,
          677.9710693359375,
          511.2417297363281,
          307.3959045410156,
          448.3649597167969,
          336.2405700683594,
          131.49765014648438,
          109.21088409423828,
          114.40518188476562,
          84.54883575439453,
          66.63938903808594,
          93.34625244140625,
          113.38323211669922,
          85.53636169433594,
          59.474464416503906,
          70.07450866699219,
          83.64496612548828,
          71.74494934082031,
          59.06261444091797,
          63.95246505737305,
          67.69943237304688,
          52.33171463012695,
          34.69772720336914,
          34.46921920776367,
          39.66055679321289,
          32.55133056640625,
          23.21061134338379,
          23.532136917114258,
          22.50583839416504,
          13.953192710876465,
          9.67480754852295,
          13.243182182312012,
          14.523609161376953,
          9.758703231811523,
          6.565787315368652,
          8.669940948486328,
          9.745537757873535,
          7.8651933670043945,
          8.166769981384277,
          9.376401901245117,
          7.734246253967285,
          6.1750407218933105,
          7.5852556228637695,
          8.688971519470215,
          7.167198181152344,
          5.797638416290283,
          6.234674453735352,
          6.431955814361572,
          5.584509372711182,
          5.277745723724365,
          5.38834285736084,
          4.7158589363098145,
          4.0370683670043945,
          4.256263256072998,
          4.459881782531738,
          3.8786544799804688,
          3.3107454776763916,
          3.3924572467803955,
          3.515690565109253,
          3.2361645698547363,
          3.0211384296417236,
          3.028355836868286,
          2.917807102203369,
          2.7432875633239746,
          2.769188642501831,
          2.821336507797241,
          2.650186538696289,
          2.477259635925293,
          2.517181158065796,
          2.568018674850464,
          2.4451637268066406,
          2.321531057357788,
          2.3098695278167725,
          2.2778613567352295,
          2.197993516921997,
          2.1474921703338623,
          2.109849452972412,
          2.025770425796509,
          1.9536045789718628,
          1.9452881813049316,
          1.9129153490066528,
          1.8292500972747803,
          1.771801233291626,
          1.759122371673584,
          1.7276089191436768,
          1.671241283416748,
          1.6364843845367432,
          1.6114965677261353,
          1.5742886066436768,
          1.5453497171401978,
          1.5241299867630005,
          1.4914121627807617,
          1.456718921661377,
          1.4364962577819824,
          1.4175089597702026,
          1.383942723274231,
          1.3570122718811035,
          1.3367700576782227,
          1.315490484237671,
          1.288403868675232,
          1.2666112184524536,
          1.2437459230422974,
          1.219009518623352,
          1.1999247074127197,
          1.1810418367385864,
          1.1561259031295776,
          1.1332927942276,
          1.115939974784851,
          1.095550298690796,
          1.0734734535217285,
          1.0559090375900269,
          1.0372594594955444,
          1.0179394483566284,
          1.0012047290802002,
          0.9831053614616394,
          0.9649518728256226,
          0.9489446878433228,
          0.9337877035140991,
          0.9175395965576172,
          0.9008510112762451,
          0.8855751752853394,
          0.8697284460067749,
          0.8550406098365784,
          0.8404141068458557,
          0.8266769051551819,
          0.8108806014060974,
          0.7977214455604553,
          0.785450279712677,
          0.7722265124320984,
          0.757327139377594,
          0.7443804144859314,
          0.7328717708587646,
          0.7199476957321167,
          0.7071313858032227,
          0.6952239274978638,
          0.6844403743743896,
          0.6737702488899231,
          0.6600812673568726,
          0.6503152251243591,
          0.6391522884368896,
          0.6275700330734253,
          0.6170621514320374,
          0.6078174114227295,
          0.5966910123825073,
          0.5876666903495789,
          0.5770369172096252,
          0.5690329074859619,
          0.5586735606193542,
          0.5478745698928833,
          0.5403392314910889,
          0.5305130481719971,
          0.5215570330619812,
          0.5127870440483093,
          0.5042729377746582,
          0.4968644380569458,
          0.48898521065711975,
          0.4797271490097046,
          0.4738752841949463,
          0.4668963849544525,
          0.4565446376800537,
          0.4487321376800537,
          0.44251084327697754,
          0.43409857153892517,
          0.4269985556602478,
          0.4202335476875305,
          0.4134828746318817,
          0.4064435362815857,
          0.4001086950302124,
          0.3938163220882416,
          0.3867168724536896,
          0.3817230463027954,
          0.3756251931190491,
          0.3694548010826111,
          0.36500632762908936,
          0.35787340998649597,
          0.3512926995754242,
          0.3454861044883728,
          0.3399066627025604,
          0.3356173038482666,
          0.3291465938091278,
          0.3240065574645996,
          0.3189392387866974,
          0.31389978528022766,
          0.3102504014968872,
          0.3048299551010132,
          0.2989460825920105,
          0.2952632009983063,
          0.29061922430992126,
          0.28597503900527954,
          0.28062862157821655,
          0.27616050839424133,
          0.27269360423088074,
          0.26778027415275574,
          0.2630705237388611,
          0.26013171672821045,
          0.25599637627601624,
          0.2512900233268738,
          0.24737437069416046,
          0.243569016456604,
          0.23955848813056946,
          0.2369815558195114,
          0.2332799881696701,
          0.22951123118400574,
          0.22515688836574554,
          0.22157055139541626,
          0.21921393275260925,
          0.21604426205158234,
          0.21225279569625854,
          0.2084486037492752,
          0.20511983335018158,
          0.20253996551036835,
          0.20060382783412933,
          0.1956803798675537,
          0.19268003106117249,
          0.19082970917224884,
          0.1869352161884308,
          0.18480029702186584,
          0.1810072362422943,
          0.1793610006570816,
          0.17554475367069244,
          0.1737295538187027,
          0.17030666768550873,
          0.16857512295246124,
          0.1659698188304901,
          0.16265614330768585,
          0.15994258224964142,
          0.15760235488414764,
          0.1560007631778717,
          0.15358805656433105,
          0.15114963054656982,
          0.14807987213134766,
          0.14587846398353577,
          0.14464199542999268,
          0.14137272536754608,
          0.1398286074399948,
          0.13696759939193726,
          0.13558392226696014,
          0.13290587067604065,
          0.13069666922092438,
          0.13058438897132874,
          0.1268613636493683,
          0.12490611523389816,
          0.1248268187046051,
          0.12178108841180801,
          0.11904935538768768,
          0.1171867772936821
         ]
        },
        {
         "hovertext": "2_True_0.001_5",
         "mode": "lines",
         "name": "2_True_0.001_5",
         "type": "scatter",
         "x": [
          0,
          1,
          2,
          3,
          4,
          5,
          6,
          7,
          8,
          9,
          10,
          11,
          12,
          13,
          14,
          15,
          16,
          17,
          18,
          19,
          20,
          21,
          22,
          23,
          24,
          25,
          26,
          27,
          28,
          29,
          30,
          31,
          32,
          33,
          34,
          35,
          36,
          37,
          38,
          39,
          40,
          41,
          42,
          43,
          44,
          45,
          46,
          47,
          48,
          49,
          50,
          51,
          52,
          53,
          54,
          55,
          56,
          57,
          58,
          59,
          60,
          61,
          62,
          63,
          64,
          65,
          66,
          67,
          68,
          69,
          70,
          71,
          72,
          73,
          74,
          75,
          76,
          77,
          78,
          79,
          80,
          81,
          82,
          83,
          84,
          85,
          86,
          87,
          88,
          89,
          90,
          91,
          92,
          93,
          94,
          95,
          96,
          97,
          98,
          99,
          100,
          101,
          102,
          103,
          104,
          105,
          106,
          107,
          108,
          109,
          110,
          111,
          112,
          113,
          114,
          115,
          116,
          117,
          118,
          119,
          120,
          121,
          122,
          123,
          124,
          125,
          126,
          127,
          128,
          129,
          130,
          131,
          132,
          133,
          134,
          135,
          136,
          137,
          138,
          139,
          140,
          141,
          142,
          143,
          144,
          145,
          146,
          147,
          148,
          149,
          150,
          151,
          152,
          153,
          154,
          155,
          156,
          157,
          158,
          159,
          160,
          161,
          162,
          163,
          164,
          165,
          166,
          167,
          168,
          169,
          170,
          171,
          172,
          173,
          174,
          175,
          176,
          177,
          178,
          179,
          180,
          181,
          182,
          183,
          184,
          185,
          186,
          187,
          188,
          189,
          190,
          191,
          192,
          193,
          194,
          195,
          196,
          197,
          198,
          199,
          200,
          201,
          202,
          203,
          204,
          205,
          206,
          207,
          208,
          209,
          210,
          211,
          212,
          213,
          214,
          215,
          216,
          217,
          218,
          219,
          220,
          221,
          222,
          223,
          224,
          225,
          226,
          227,
          228,
          229,
          230,
          231,
          232,
          233,
          234,
          235,
          236,
          237,
          238,
          239,
          240,
          241,
          242,
          243,
          244,
          245,
          246,
          247,
          248,
          249,
          250,
          251,
          252,
          253,
          254,
          255,
          256,
          257,
          258,
          259,
          260,
          261,
          262,
          263,
          264,
          265,
          266,
          267,
          268,
          269,
          270,
          271,
          272,
          273,
          274,
          275,
          276,
          277,
          278,
          279,
          280,
          281,
          282,
          283,
          284,
          285,
          286,
          287,
          288
         ],
         "y": [
          0.0003032079548574984,
          0.000187658763024956,
          0.0001690179924480617,
          0.0002942122519016266,
          0.0002982937730848789,
          0.00042153458343818784,
          0.00016563347890041769,
          0.0003509563102852553,
          0.00047496610204689205,
          0.0003075757995247841,
          0.00019857741426676512,
          0.00043805036693811417,
          0.00021120216115377843,
          0.00029004187672398984,
          0.0004352558753453195,
          0.000440139789134264,
          0.00015689391875639558,
          0.00015490541409235448,
          0.00014735393051523715,
          0.00015177081513684243,
          0.00016504566883668303,
          0.00018318463116884232,
          0.00015763664850965142,
          0.0001573011977598071,
          0.00027662707725539804,
          0.00015537157014477998,
          0.00028893561102449894,
          0.00016750660142861307,
          0.0002899165265262127,
          0.013424810022115707,
          1981798.25,
          15667532,
          849079.5625,
          132080.21875,
          30301.21875,
          187.18638610839844,
          16.92609405517578,
          24.103315353393555,
          31.084796905517578,
          36.55893325805664,
          39.34183120727539,
          38.75058364868164,
          36.12013626098633,
          31.55933952331543,
          26.65216064453125,
          21.260637283325195,
          17.252687454223633,
          13.967069625854492,
          11.368345260620117,
          9.354978561401367,
          7.504167556762695,
          5.906745910644531,
          4.754952430725098,
          3.868894338607788,
          2.9885334968566895,
          2.477142810821533,
          2.086704730987549,
          1.8722444772720337,
          1.6801124811172485,
          1.472862958908081,
          1.3213411569595337,
          1.1665480136871338,
          1.0254294872283936,
          0.9107561111450195,
          0.8207271099090576,
          0.7620506286621094,
          0.724560022354126,
          0.6878092288970947,
          0.6484074592590332,
          0.6107069849967957,
          0.5792536735534668,
          0.5512918829917908,
          0.5259337425231934,
          0.5040056109428406,
          0.48299792408943176,
          0.46379104256629944,
          0.44519659876823425,
          0.42606493830680847,
          0.407088041305542,
          0.388182133436203,
          0.3692251145839691,
          0.3505524694919586,
          0.33261698484420776,
          0.3148309290409088,
          0.2984152138233185,
          0.28348398208618164,
          0.27047836780548096,
          0.25964999198913574,
          0.24941420555114746,
          0.2406625896692276,
          0.23320253193378448,
          0.22603590786457062,
          0.2200145572423935,
          0.2141827642917633,
          0.2090127170085907,
          0.20423559844493866,
          0.19975721836090088,
          0.19519829750061035,
          0.19104184210300446,
          0.1862614005804062,
          0.1821388304233551,
          0.17847074568271637,
          0.1746232509613037,
          0.17108483612537384,
          0.16799278557300568,
          0.16545158624649048,
          0.16190235316753387,
          0.1591169834136963,
          0.15717963874340057,
          0.1541750729084015,
          0.15152066946029663,
          0.14926236867904663,
          0.1471618115901947,
          0.1444566547870636,
          0.14218229055404663,
          0.14031308889389038,
          0.13796184957027435,
          0.1362626999616623,
          0.13423816859722137,
          0.1324664205312729,
          0.13072428107261658,
          0.12902550399303436,
          0.1275482475757599,
          0.1259152591228485,
          0.12456776201725006,
          0.12302885204553604,
          0.12149219959974289,
          0.12053783237934113,
          0.1187853291630745,
          0.11743202805519104,
          0.11620160937309265,
          0.11473865061998367,
          0.11354704201221466,
          0.11217720061540604,
          0.11118992418050766,
          0.11027367413043976,
          0.10877061635255814,
          0.10771935433149338,
          0.10655643790960312,
          0.1055765450000763,
          0.10453096032142639,
          0.10330280661582947,
          0.10252214223146439,
          0.10124645382165909,
          0.10022041946649551,
          0.09926597028970718,
          0.09838835150003433,
          0.09743402153253555,
          0.09671502560377121,
          0.09557245671749115,
          0.09470560401678085,
          0.09402765333652496,
          0.09324830770492554,
          0.09255877882242203,
          0.0914277583360672,
          0.09055321663618088,
          0.0898161232471466,
          0.08930890262126923,
          0.08842353522777557,
          0.08789850771427155,
          0.08727756142616272,
          0.0861373022198677,
          0.0853683352470398,
          0.08476778864860535,
          0.08407923579216003,
          0.08334552496671677,
          0.08266282081604004,
          0.08212564885616302,
          0.08148587495088577,
          0.08096124976873398,
          0.08016417920589447,
          0.07951115816831589,
          0.07897225022315979,
          0.07844553142786026,
          0.07780550420284271,
          0.07731473445892334,
          0.07669779658317566,
          0.07622619718313217,
          0.07562248408794403,
          0.07500475645065308,
          0.07453051209449768,
          0.07399846613407135,
          0.07350817322731018,
          0.07289297133684158,
          0.07241599261760712,
          0.07180318236351013,
          0.07150901108980179,
          0.07096187025308609,
          0.070685476064682,
          0.07015538960695267,
          0.0694582536816597,
          0.06896588206291199,
          0.06866611540317535,
          0.06816493719816208,
          0.0676191970705986,
          0.06718922406435013,
          0.0668695718050003,
          0.06646370887756348,
          0.06589943915605545,
          0.06539731472730637,
          0.0651528388261795,
          0.06465931981801987,
          0.064293272793293,
          0.06389207392930984,
          0.06381719559431076,
          0.06309124082326889,
          0.06280338764190674,
          0.062211573123931885,
          0.06190376728773117,
          0.061500273644924164,
          0.061224281787872314,
          0.06065167859196663,
          0.06032247841358185,
          0.060307275503873825,
          0.05955025553703308,
          0.05932080000638962,
          0.05883210152387619,
          0.058481473475694656,
          0.058147870004177094,
          0.057966068387031555,
          0.05753728747367859,
          0.05718414857983589,
          0.056754905730485916,
          0.05674593523144722,
          0.05607954412698746,
          0.055777184665203094,
          0.05540444701910019,
          0.055132657289505005,
          0.05476033687591553,
          0.05456864833831787,
          0.05401870608329773,
          0.054022450000047684,
          0.05335197597742081,
          0.053280480206012726,
          0.052748098969459534,
          0.05249195173382759,
          0.0520925335586071,
          0.05182721093297005,
          0.05165340378880501,
          0.051181573420763016,
          0.050911739468574524,
          0.05053619295358658,
          0.050460346043109894,
          0.04989940673112869,
          0.04967806860804558,
          0.04940720275044441,
          0.04930490255355835,
          0.04883790761232376,
          0.04851029813289642,
          0.048157017678022385,
          0.04795263335108757,
          0.04761116951704025,
          0.04749327898025513,
          0.047166820615530014,
          0.046756286174058914,
          0.04637709632515907,
          0.046102654188871384,
          0.04576121270656586,
          0.045668721199035645,
          0.04536013677716255,
          0.04506639763712883,
          0.04479212313890457,
          0.044604405760765076,
          0.044323645532131195,
          0.04414917901158333,
          0.0436345599591732,
          0.043405260890722275,
          0.04317475110292435,
          0.042769625782966614,
          0.042747318744659424,
          0.04225580766797066,
          0.04204089567065239,
          0.04173450544476509,
          0.04154204577207565,
          0.04130100831389427,
          0.04095224663615227,
          0.04075082391500473,
          0.04052773118019104,
          0.04027978703379631,
          0.04004191234707832,
          0.039675723761320114,
          0.0393601693212986,
          0.03918413445353508,
          0.03901106119155884,
          0.03869855776429176,
          0.038385555148124695,
          0.03824818134307861,
          0.03815620020031929,
          0.03767509013414383
         ]
        }
       ],
       "layout": {
        "template": {
         "data": {
          "bar": [
           {
            "error_x": {
             "color": "#2a3f5f"
            },
            "error_y": {
             "color": "#2a3f5f"
            },
            "marker": {
             "line": {
              "color": "#E5ECF6",
              "width": 0.5
             },
             "pattern": {
              "fillmode": "overlay",
              "size": 10,
              "solidity": 0.2
             }
            },
            "type": "bar"
           }
          ],
          "barpolar": [
           {
            "marker": {
             "line": {
              "color": "#E5ECF6",
              "width": 0.5
             },
             "pattern": {
              "fillmode": "overlay",
              "size": 10,
              "solidity": 0.2
             }
            },
            "type": "barpolar"
           }
          ],
          "carpet": [
           {
            "aaxis": {
             "endlinecolor": "#2a3f5f",
             "gridcolor": "white",
             "linecolor": "white",
             "minorgridcolor": "white",
             "startlinecolor": "#2a3f5f"
            },
            "baxis": {
             "endlinecolor": "#2a3f5f",
             "gridcolor": "white",
             "linecolor": "white",
             "minorgridcolor": "white",
             "startlinecolor": "#2a3f5f"
            },
            "type": "carpet"
           }
          ],
          "choropleth": [
           {
            "colorbar": {
             "outlinewidth": 0,
             "ticks": ""
            },
            "type": "choropleth"
           }
          ],
          "contour": [
           {
            "colorbar": {
             "outlinewidth": 0,
             "ticks": ""
            },
            "colorscale": [
             [
              0,
              "#0d0887"
             ],
             [
              0.1111111111111111,
              "#46039f"
             ],
             [
              0.2222222222222222,
              "#7201a8"
             ],
             [
              0.3333333333333333,
              "#9c179e"
             ],
             [
              0.4444444444444444,
              "#bd3786"
             ],
             [
              0.5555555555555556,
              "#d8576b"
             ],
             [
              0.6666666666666666,
              "#ed7953"
             ],
             [
              0.7777777777777778,
              "#fb9f3a"
             ],
             [
              0.8888888888888888,
              "#fdca26"
             ],
             [
              1,
              "#f0f921"
             ]
            ],
            "type": "contour"
           }
          ],
          "contourcarpet": [
           {
            "colorbar": {
             "outlinewidth": 0,
             "ticks": ""
            },
            "type": "contourcarpet"
           }
          ],
          "heatmap": [
           {
            "colorbar": {
             "outlinewidth": 0,
             "ticks": ""
            },
            "colorscale": [
             [
              0,
              "#0d0887"
             ],
             [
              0.1111111111111111,
              "#46039f"
             ],
             [
              0.2222222222222222,
              "#7201a8"
             ],
             [
              0.3333333333333333,
              "#9c179e"
             ],
             [
              0.4444444444444444,
              "#bd3786"
             ],
             [
              0.5555555555555556,
              "#d8576b"
             ],
             [
              0.6666666666666666,
              "#ed7953"
             ],
             [
              0.7777777777777778,
              "#fb9f3a"
             ],
             [
              0.8888888888888888,
              "#fdca26"
             ],
             [
              1,
              "#f0f921"
             ]
            ],
            "type": "heatmap"
           }
          ],
          "heatmapgl": [
           {
            "colorbar": {
             "outlinewidth": 0,
             "ticks": ""
            },
            "colorscale": [
             [
              0,
              "#0d0887"
             ],
             [
              0.1111111111111111,
              "#46039f"
             ],
             [
              0.2222222222222222,
              "#7201a8"
             ],
             [
              0.3333333333333333,
              "#9c179e"
             ],
             [
              0.4444444444444444,
              "#bd3786"
             ],
             [
              0.5555555555555556,
              "#d8576b"
             ],
             [
              0.6666666666666666,
              "#ed7953"
             ],
             [
              0.7777777777777778,
              "#fb9f3a"
             ],
             [
              0.8888888888888888,
              "#fdca26"
             ],
             [
              1,
              "#f0f921"
             ]
            ],
            "type": "heatmapgl"
           }
          ],
          "histogram": [
           {
            "marker": {
             "pattern": {
              "fillmode": "overlay",
              "size": 10,
              "solidity": 0.2
             }
            },
            "type": "histogram"
           }
          ],
          "histogram2d": [
           {
            "colorbar": {
             "outlinewidth": 0,
             "ticks": ""
            },
            "colorscale": [
             [
              0,
              "#0d0887"
             ],
             [
              0.1111111111111111,
              "#46039f"
             ],
             [
              0.2222222222222222,
              "#7201a8"
             ],
             [
              0.3333333333333333,
              "#9c179e"
             ],
             [
              0.4444444444444444,
              "#bd3786"
             ],
             [
              0.5555555555555556,
              "#d8576b"
             ],
             [
              0.6666666666666666,
              "#ed7953"
             ],
             [
              0.7777777777777778,
              "#fb9f3a"
             ],
             [
              0.8888888888888888,
              "#fdca26"
             ],
             [
              1,
              "#f0f921"
             ]
            ],
            "type": "histogram2d"
           }
          ],
          "histogram2dcontour": [
           {
            "colorbar": {
             "outlinewidth": 0,
             "ticks": ""
            },
            "colorscale": [
             [
              0,
              "#0d0887"
             ],
             [
              0.1111111111111111,
              "#46039f"
             ],
             [
              0.2222222222222222,
              "#7201a8"
             ],
             [
              0.3333333333333333,
              "#9c179e"
             ],
             [
              0.4444444444444444,
              "#bd3786"
             ],
             [
              0.5555555555555556,
              "#d8576b"
             ],
             [
              0.6666666666666666,
              "#ed7953"
             ],
             [
              0.7777777777777778,
              "#fb9f3a"
             ],
             [
              0.8888888888888888,
              "#fdca26"
             ],
             [
              1,
              "#f0f921"
             ]
            ],
            "type": "histogram2dcontour"
           }
          ],
          "mesh3d": [
           {
            "colorbar": {
             "outlinewidth": 0,
             "ticks": ""
            },
            "type": "mesh3d"
           }
          ],
          "parcoords": [
           {
            "line": {
             "colorbar": {
              "outlinewidth": 0,
              "ticks": ""
             }
            },
            "type": "parcoords"
           }
          ],
          "pie": [
           {
            "automargin": true,
            "type": "pie"
           }
          ],
          "scatter": [
           {
            "fillpattern": {
             "fillmode": "overlay",
             "size": 10,
             "solidity": 0.2
            },
            "type": "scatter"
           }
          ],
          "scatter3d": [
           {
            "line": {
             "colorbar": {
              "outlinewidth": 0,
              "ticks": ""
             }
            },
            "marker": {
             "colorbar": {
              "outlinewidth": 0,
              "ticks": ""
             }
            },
            "type": "scatter3d"
           }
          ],
          "scattercarpet": [
           {
            "marker": {
             "colorbar": {
              "outlinewidth": 0,
              "ticks": ""
             }
            },
            "type": "scattercarpet"
           }
          ],
          "scattergeo": [
           {
            "marker": {
             "colorbar": {
              "outlinewidth": 0,
              "ticks": ""
             }
            },
            "type": "scattergeo"
           }
          ],
          "scattergl": [
           {
            "marker": {
             "colorbar": {
              "outlinewidth": 0,
              "ticks": ""
             }
            },
            "type": "scattergl"
           }
          ],
          "scattermapbox": [
           {
            "marker": {
             "colorbar": {
              "outlinewidth": 0,
              "ticks": ""
             }
            },
            "type": "scattermapbox"
           }
          ],
          "scatterpolar": [
           {
            "marker": {
             "colorbar": {
              "outlinewidth": 0,
              "ticks": ""
             }
            },
            "type": "scatterpolar"
           }
          ],
          "scatterpolargl": [
           {
            "marker": {
             "colorbar": {
              "outlinewidth": 0,
              "ticks": ""
             }
            },
            "type": "scatterpolargl"
           }
          ],
          "scatterternary": [
           {
            "marker": {
             "colorbar": {
              "outlinewidth": 0,
              "ticks": ""
             }
            },
            "type": "scatterternary"
           }
          ],
          "surface": [
           {
            "colorbar": {
             "outlinewidth": 0,
             "ticks": ""
            },
            "colorscale": [
             [
              0,
              "#0d0887"
             ],
             [
              0.1111111111111111,
              "#46039f"
             ],
             [
              0.2222222222222222,
              "#7201a8"
             ],
             [
              0.3333333333333333,
              "#9c179e"
             ],
             [
              0.4444444444444444,
              "#bd3786"
             ],
             [
              0.5555555555555556,
              "#d8576b"
             ],
             [
              0.6666666666666666,
              "#ed7953"
             ],
             [
              0.7777777777777778,
              "#fb9f3a"
             ],
             [
              0.8888888888888888,
              "#fdca26"
             ],
             [
              1,
              "#f0f921"
             ]
            ],
            "type": "surface"
           }
          ],
          "table": [
           {
            "cells": {
             "fill": {
              "color": "#EBF0F8"
             },
             "line": {
              "color": "white"
             }
            },
            "header": {
             "fill": {
              "color": "#C8D4E3"
             },
             "line": {
              "color": "white"
             }
            },
            "type": "table"
           }
          ]
         },
         "layout": {
          "annotationdefaults": {
           "arrowcolor": "#2a3f5f",
           "arrowhead": 0,
           "arrowwidth": 1
          },
          "autotypenumbers": "strict",
          "coloraxis": {
           "colorbar": {
            "outlinewidth": 0,
            "ticks": ""
           }
          },
          "colorscale": {
           "diverging": [
            [
             0,
             "#8e0152"
            ],
            [
             0.1,
             "#c51b7d"
            ],
            [
             0.2,
             "#de77ae"
            ],
            [
             0.3,
             "#f1b6da"
            ],
            [
             0.4,
             "#fde0ef"
            ],
            [
             0.5,
             "#f7f7f7"
            ],
            [
             0.6,
             "#e6f5d0"
            ],
            [
             0.7,
             "#b8e186"
            ],
            [
             0.8,
             "#7fbc41"
            ],
            [
             0.9,
             "#4d9221"
            ],
            [
             1,
             "#276419"
            ]
           ],
           "sequential": [
            [
             0,
             "#0d0887"
            ],
            [
             0.1111111111111111,
             "#46039f"
            ],
            [
             0.2222222222222222,
             "#7201a8"
            ],
            [
             0.3333333333333333,
             "#9c179e"
            ],
            [
             0.4444444444444444,
             "#bd3786"
            ],
            [
             0.5555555555555556,
             "#d8576b"
            ],
            [
             0.6666666666666666,
             "#ed7953"
            ],
            [
             0.7777777777777778,
             "#fb9f3a"
            ],
            [
             0.8888888888888888,
             "#fdca26"
            ],
            [
             1,
             "#f0f921"
            ]
           ],
           "sequentialminus": [
            [
             0,
             "#0d0887"
            ],
            [
             0.1111111111111111,
             "#46039f"
            ],
            [
             0.2222222222222222,
             "#7201a8"
            ],
            [
             0.3333333333333333,
             "#9c179e"
            ],
            [
             0.4444444444444444,
             "#bd3786"
            ],
            [
             0.5555555555555556,
             "#d8576b"
            ],
            [
             0.6666666666666666,
             "#ed7953"
            ],
            [
             0.7777777777777778,
             "#fb9f3a"
            ],
            [
             0.8888888888888888,
             "#fdca26"
            ],
            [
             1,
             "#f0f921"
            ]
           ]
          },
          "colorway": [
           "#636efa",
           "#EF553B",
           "#00cc96",
           "#ab63fa",
           "#FFA15A",
           "#19d3f3",
           "#FF6692",
           "#B6E880",
           "#FF97FF",
           "#FECB52"
          ],
          "font": {
           "color": "#2a3f5f"
          },
          "geo": {
           "bgcolor": "white",
           "lakecolor": "white",
           "landcolor": "#E5ECF6",
           "showlakes": true,
           "showland": true,
           "subunitcolor": "white"
          },
          "hoverlabel": {
           "align": "left"
          },
          "hovermode": "closest",
          "mapbox": {
           "style": "light"
          },
          "paper_bgcolor": "white",
          "plot_bgcolor": "#E5ECF6",
          "polar": {
           "angularaxis": {
            "gridcolor": "white",
            "linecolor": "white",
            "ticks": ""
           },
           "bgcolor": "#E5ECF6",
           "radialaxis": {
            "gridcolor": "white",
            "linecolor": "white",
            "ticks": ""
           }
          },
          "scene": {
           "xaxis": {
            "backgroundcolor": "#E5ECF6",
            "gridcolor": "white",
            "gridwidth": 2,
            "linecolor": "white",
            "showbackground": true,
            "ticks": "",
            "zerolinecolor": "white"
           },
           "yaxis": {
            "backgroundcolor": "#E5ECF6",
            "gridcolor": "white",
            "gridwidth": 2,
            "linecolor": "white",
            "showbackground": true,
            "ticks": "",
            "zerolinecolor": "white"
           },
           "zaxis": {
            "backgroundcolor": "#E5ECF6",
            "gridcolor": "white",
            "gridwidth": 2,
            "linecolor": "white",
            "showbackground": true,
            "ticks": "",
            "zerolinecolor": "white"
           }
          },
          "shapedefaults": {
           "line": {
            "color": "#2a3f5f"
           }
          },
          "ternary": {
           "aaxis": {
            "gridcolor": "white",
            "linecolor": "white",
            "ticks": ""
           },
           "baxis": {
            "gridcolor": "white",
            "linecolor": "white",
            "ticks": ""
           },
           "bgcolor": "#E5ECF6",
           "caxis": {
            "gridcolor": "white",
            "linecolor": "white",
            "ticks": ""
           }
          },
          "title": {
           "x": 0.05
          },
          "xaxis": {
           "automargin": true,
           "gridcolor": "white",
           "linecolor": "white",
           "ticks": "",
           "title": {
            "standoff": 15
           },
           "zerolinecolor": "white",
           "zerolinewidth": 2
          },
          "yaxis": {
           "automargin": true,
           "gridcolor": "white",
           "linecolor": "white",
           "ticks": "",
           "title": {
            "standoff": 15
           },
           "zerolinecolor": "white",
           "zerolinewidth": 2
          }
         }
        }
       }
      }
     },
     "metadata": {},
     "output_type": "display_data"
    }
   ],
   "source": [
    "\n",
    "fig = go.Figure()\n",
    "\n",
    "for combination, losses in valid_results.items():\n",
    "    scatter = go.Scatter(\n",
    "        x=list(range(len(losses))),\n",
    "        y=losses,\n",
    "        mode='lines',\n",
    "        name=combination,\n",
    "        hovertext=combination\n",
    "        )\n",
    "    \n",
    "    fig.add_trace(scatter)\n",
    "\n",
    "fig.show()"
   ]
  },
  {
   "cell_type": "code",
   "execution_count": null,
   "metadata": {},
   "outputs": [],
   "source": [
    "model.train_phase = 1"
   ]
  },
  {
   "cell_type": "code",
   "execution_count": 1,
   "metadata": {},
   "outputs": [
    {
     "ename": "NameError",
     "evalue": "name 'datasets' is not defined",
     "output_type": "error",
     "traceback": [
      "\u001b[1;31m---------------------------------------------------------------------------\u001b[0m",
      "\u001b[1;31mNameError\u001b[0m                                 Traceback (most recent call last)",
      "\u001b[1;32mc:\\Users\\jtrnka\\Documents\\GitHub\\Face-Landmarking\\Face-Landmarking\\train.ipynb Cell 9\u001b[0m line \u001b[0;36m1\n\u001b[1;32m----> <a href='vscode-notebook-cell:/c%3A/Users/jtrnka/Documents/GitHub/Face-Landmarking/Face-Landmarking/train.ipynb#X11sZmlsZQ%3D%3D?line=0'>1</a>\u001b[0m dataset \u001b[39m=\u001b[39m datasets[\u001b[39m\"\u001b[39m\u001b[39mmain\u001b[39m\u001b[39m\"\u001b[39m]\n\u001b[0;32m      <a href='vscode-notebook-cell:/c%3A/Users/jtrnka/Documents/GitHub/Face-Landmarking/Face-Landmarking/train.ipynb#X11sZmlsZQ%3D%3D?line=1'>2</a>\u001b[0m dataset\u001b[39m.\u001b[39mpretraining \u001b[39m=\u001b[39m \u001b[39mFalse\u001b[39;00m\n\u001b[0;32m      <a href='vscode-notebook-cell:/c%3A/Users/jtrnka/Documents/GitHub/Face-Landmarking/Face-Landmarking/train.ipynb#X11sZmlsZQ%3D%3D?line=2'>3</a>\u001b[0m idx \u001b[39m=\u001b[39m torch\u001b[39m.\u001b[39mrandint(dataset\u001b[39m.\u001b[39m\u001b[39m__len__\u001b[39m(),(\u001b[39m1\u001b[39m,))\n",
      "\u001b[1;31mNameError\u001b[0m: name 'datasets' is not defined"
     ]
    }
   ],
   "source": [
    "dataset = datasets[\"main\"]\n",
    "dataset.pretraining = False\n",
    "idx = torch.randint(dataset.__len__(),(1,))\n",
    "print(idx)\n",
    "img_path = dataset.path_list[idx]\n",
    "image = cv2.imread(img_path)\n",
    "image = cv2.cvtColor(image, cv2.COLOR_BGR2RGB)\n",
    "landmarks, inputs_pathway, image_detail = model.predict(image, face_detail=True)\n",
    "landmarks = landmarks.reshape(-1,2)\n",
    "display_landmarks(landmarks, image_detail, pixel_scale=False, origin='upper_left')\n",
    "\n",
    "# display_landmarks(inputs_pathway.reshape(-1,2), image_detail, pixel_scale=False, origin='upper_left')"
   ]
  },
  {
   "cell_type": "code",
   "execution_count": null,
   "metadata": {
    "id": "aGWf3gNswD2j"
   },
   "outputs": [],
   "source": [
    "@torch.no_grad()\n",
    "def show_some_results(group = None, idx = None):\n",
    "    if group is None:\n",
    "        group = sample_groups[np.random.randint(len(sample_groups))]\n",
    "    \n",
    "    for file in os.listdir(group):\n",
    "        if '.TPS' in file or '.tps' in file:\n",
    "             tps = readtps(group + '/' + file, group)\n",
    "        \n",
    "    if idx is None:\n",
    "        idx = np.random.randint(len(tps['im']))\n",
    "        \n",
    "    true_landmarks = tps['coords'][:, :, idx]\n",
    "    img_path = group + '/' + tps['im'][idx]\n",
    "    image = cv2.imread(img_path)\n",
    "    image = cv2.cvtColor(image, cv2.COLOR_BGR2RGB)\n",
    "    \n",
    "    face_detail = crop_face_only(image)\n",
    "    if face_detail:\n",
    "        subimage, xmin, ymin, xmax, ymax = face_detail\n",
    "    \n",
    "    # Both model use float(0,1) for x and y axis\n",
    "    input_landmarks = MediaPipe_model(subimage)\n",
    "    #input_landmarks = np.concatenate((LBF_model(image), MediaPipe_model(image)), axis = 0)\n",
    "\n",
    "    #true_landmarks = np.subtract(true_landmarks, (xmin, image.shape[0] - ymax))\n",
    "    #true_landmarks = np.divide(true_landmarks, (subimage.shape[1], subimage.shape[0]))\n",
    "     \n",
    "    # Převod původních pixelových na float, flip y-axis\n",
    "    true_landmarks = torch.from_numpy(1 - np.divide(true_landmarks, (image.shape[1], image.shape[0]))).to(device)\n",
    "\n",
    "    # batch_dim = 0\n",
    "    input_landmarks = torch.from_numpy(input_landmarks.reshape(1,-1)).float().to(device)\n",
    "    raw_landmarks, _ = model.raw_projection(input_landmarks, None)\n",
    "\n",
    "    multicrop = make_landmark_crops(raw_landmarks, subimage)\n",
    "    \n",
    "    #předělat a použít prediction method\n",
    "    projection, _, _ = model(input_landmarks, true_landmarks.reshape(1,-1), multicrop = multicrop[None,:,:,:], image_shape = subimage.shape)\n",
    "    projection = projection.cpu().detach().numpy().reshape(true_landmarks.shape)\n",
    "    \n",
    "    # tady připočíst xmin a ten druhý pól image_shape - ymax\n",
    "    return projection, image, true_landmarks, raw_landmarks"
   ]
  }
 ],
 "metadata": {
  "colab": {
   "gpuType": "T4",
   "provenance": []
  },
  "kernelspec": {
   "display_name": "Python 3 (ipykernel)",
   "language": "python",
   "name": "python3"
  },
  "language_info": {
   "codemirror_mode": {
    "name": "ipython",
    "version": 3
   },
   "file_extension": ".py",
   "mimetype": "text/x-python",
   "name": "python",
   "nbconvert_exporter": "python",
   "pygments_lexer": "ipython3",
   "version": "3.11.3"
  }
 },
 "nbformat": 4,
 "nbformat_minor": 1
}
